{
 "cells": [
  {
   "cell_type": "markdown",
   "id": "54026d9e",
   "metadata": {},
   "source": [
    "## Practical No.: 04\n",
    "\n",
    "##### Recurrent neural network (RNN) Use the Google stock prices dataset and design a time seriesanalysis and prediction system using RNN."
   ]
  },
  {
   "cell_type": "code",
   "execution_count": 17,
   "id": "4cf8027e",
   "metadata": {},
   "outputs": [],
   "source": [
    "import numpy as np\n",
    "import matplotlib.pyplot as plt\n",
    "import pandas as pd\n",
    "from sklearn.preprocessing import MinMaxScaler\n",
    "from tensorflow.keras.models import Sequential\n",
    "from tensorflow.keras.layers import LSTM\n",
    "from tensorflow.keras.layers import Dense\n",
    "from tensorflow.keras.layers import Dropout"
   ]
  },
  {
   "cell_type": "code",
   "execution_count": 18,
   "id": "e398fb74",
   "metadata": {},
   "outputs": [],
   "source": [
    "dataset_train = pd.read_csv('D:\\datasets\\Google_Stock_Price_Train.csv')"
   ]
  },
  {
   "cell_type": "code",
   "execution_count": 20,
   "id": "39d74ca8",
   "metadata": {},
   "outputs": [
    {
     "data": {
      "text/html": [
       "<div>\n",
       "<style scoped>\n",
       "    .dataframe tbody tr th:only-of-type {\n",
       "        vertical-align: middle;\n",
       "    }\n",
       "\n",
       "    .dataframe tbody tr th {\n",
       "        vertical-align: top;\n",
       "    }\n",
       "\n",
       "    .dataframe thead th {\n",
       "        text-align: right;\n",
       "    }\n",
       "</style>\n",
       "<table border=\"1\" class=\"dataframe\">\n",
       "  <thead>\n",
       "    <tr style=\"text-align: right;\">\n",
       "      <th></th>\n",
       "      <th>Date</th>\n",
       "      <th>Open</th>\n",
       "      <th>High</th>\n",
       "      <th>Low</th>\n",
       "      <th>Close</th>\n",
       "      <th>Volume</th>\n",
       "    </tr>\n",
       "  </thead>\n",
       "  <tbody>\n",
       "    <tr>\n",
       "      <th>0</th>\n",
       "      <td>1/3/2012</td>\n",
       "      <td>325.25</td>\n",
       "      <td>332.83</td>\n",
       "      <td>324.97</td>\n",
       "      <td>663.59</td>\n",
       "      <td>7,380,500</td>\n",
       "    </tr>\n",
       "    <tr>\n",
       "      <th>1</th>\n",
       "      <td>1/4/2012</td>\n",
       "      <td>331.27</td>\n",
       "      <td>333.87</td>\n",
       "      <td>329.08</td>\n",
       "      <td>666.45</td>\n",
       "      <td>5,749,400</td>\n",
       "    </tr>\n",
       "    <tr>\n",
       "      <th>2</th>\n",
       "      <td>1/5/2012</td>\n",
       "      <td>329.83</td>\n",
       "      <td>330.75</td>\n",
       "      <td>326.89</td>\n",
       "      <td>657.21</td>\n",
       "      <td>6,590,300</td>\n",
       "    </tr>\n",
       "    <tr>\n",
       "      <th>3</th>\n",
       "      <td>1/6/2012</td>\n",
       "      <td>328.34</td>\n",
       "      <td>328.77</td>\n",
       "      <td>323.68</td>\n",
       "      <td>648.24</td>\n",
       "      <td>5,405,900</td>\n",
       "    </tr>\n",
       "    <tr>\n",
       "      <th>4</th>\n",
       "      <td>1/9/2012</td>\n",
       "      <td>322.04</td>\n",
       "      <td>322.29</td>\n",
       "      <td>309.46</td>\n",
       "      <td>620.76</td>\n",
       "      <td>11,688,800</td>\n",
       "    </tr>\n",
       "  </tbody>\n",
       "</table>\n",
       "</div>"
      ],
      "text/plain": [
       "       Date    Open    High     Low   Close      Volume\n",
       "0  1/3/2012  325.25  332.83  324.97  663.59   7,380,500\n",
       "1  1/4/2012  331.27  333.87  329.08  666.45   5,749,400\n",
       "2  1/5/2012  329.83  330.75  326.89  657.21   6,590,300\n",
       "3  1/6/2012  328.34  328.77  323.68  648.24   5,405,900\n",
       "4  1/9/2012  322.04  322.29  309.46  620.76  11,688,800"
      ]
     },
     "execution_count": 20,
     "metadata": {},
     "output_type": "execute_result"
    }
   ],
   "source": [
    "dataset_train.head()"
   ]
  },
  {
   "cell_type": "code",
   "execution_count": 21,
   "id": "1fa926f4",
   "metadata": {},
   "outputs": [],
   "source": [
    "training_set = dataset_train.iloc[:, 1: 2].values"
   ]
  },
  {
   "cell_type": "code",
   "execution_count": 22,
   "id": "3d62cf24",
   "metadata": {},
   "outputs": [
    {
     "data": {
      "text/plain": [
       "(1258, 1)"
      ]
     },
     "execution_count": 22,
     "metadata": {},
     "output_type": "execute_result"
    }
   ],
   "source": [
    "training_set.shape"
   ]
  },
  {
   "cell_type": "code",
   "execution_count": 23,
   "id": "8fd39676",
   "metadata": {},
   "outputs": [],
   "source": [
    "sc = MinMaxScaler(feature_range = (0, 1))\n",
    "training_set_scaled = sc.fit_transform(training_set)"
   ]
  },
  {
   "cell_type": "code",
   "execution_count": 24,
   "id": "3b5eab55",
   "metadata": {},
   "outputs": [],
   "source": [
    "X_train = []\n",
    "y_train = []\n",
    "for i in range(60, len(training_set_scaled)):\n",
    "    X_train.append(training_set_scaled[i-60: i, 0])\n",
    "    y_train.append(training_set_scaled[i, 0])\n",
    "\n",
    "X_train, y_train = np.array(X_train), np.array(y_train)"
   ]
  },
  {
   "cell_type": "code",
   "execution_count": 26,
   "id": "af42625b",
   "metadata": {},
   "outputs": [
    {
     "data": {
      "text/plain": [
       "(1198, 60)"
      ]
     },
     "execution_count": 26,
     "metadata": {},
     "output_type": "execute_result"
    }
   ],
   "source": [
    "X_train.shape"
   ]
  },
  {
   "cell_type": "code",
   "execution_count": 27,
   "id": "16de0c0e",
   "metadata": {},
   "outputs": [
    {
     "data": {
      "text/plain": [
       "(1198,)"
      ]
     },
     "execution_count": 27,
     "metadata": {},
     "output_type": "execute_result"
    }
   ],
   "source": [
    "y_train.shape"
   ]
  },
  {
   "cell_type": "code",
   "execution_count": 28,
   "id": "d75e56f7",
   "metadata": {},
   "outputs": [],
   "source": [
    "X_train = np.reshape(X_train, newshape = \n",
    "                     (X_train.shape[0], X_train.shape[1], 1))"
   ]
  },
  {
   "cell_type": "code",
   "execution_count": 29,
   "id": "49eeb4ab",
   "metadata": {},
   "outputs": [
    {
     "data": {
      "text/plain": [
       "(1198, 60, 1)"
      ]
     },
     "execution_count": 29,
     "metadata": {},
     "output_type": "execute_result"
    }
   ],
   "source": [
    "X_train.shape"
   ]
  },
  {
   "cell_type": "code",
   "execution_count": 33,
   "id": "4ba933f3",
   "metadata": {},
   "outputs": [
    {
     "data": {
      "image/png": "[encoded data removed]",
      "text/plain": [
       "<Figure size 500x300 with 1 Axes>"
      ]
     },
     "metadata": {},
     "output_type": "display_data"
    }
   ],
   "source": [
    "plt.figure(figsize=(5, 3))\n",
    "plt.plot(dataset_train['Open'])\n",
    "plt.title(\"Google Stock Open Prices\")\n",
    "plt.xlabel(\"Time (oldest -> latest)\")\n",
    "plt.ylabel(\"Stock Open Price\")\n",
    "plt.show()"
   ]
  },
  {
   "cell_type": "code",
   "execution_count": 34,
   "id": "4079f20f",
   "metadata": {},
   "outputs": [
    {
     "data": {
      "image/png": "[encoded data removed]",
      "text/plain": [
       "<Figure size 500x300 with 1 Axes>"
      ]
     },
     "metadata": {},
     "output_type": "display_data"
    }
   ],
   "source": [
    "plt.figure(figsize=(5, 3))\n",
    "plt.plot(dataset_train['Low'])\n",
    "plt.title(\"Google Stock Low Prices\")\n",
    "plt.xlabel(\"Time (oldest -> latest)\")\n",
    "plt.ylabel(\"Stock Lowest Price\")\n",
    "plt.show()"
   ]
  },
  {
   "cell_type": "code",
   "execution_count": 35,
   "id": "43064566",
   "metadata": {},
   "outputs": [],
   "source": [
    "regressor = Sequential()\n",
    "#add 1st lstm layer\n",
    "regressor.add(LSTM(units = 50, return_sequences = True, input_shape = (X_train.shape[1], 1)))\n",
    "regressor.add(Dropout(rate = 0.2))\n",
    "\n",
    "##add 2nd lstm layer: 50 neurons\n",
    "regressor.add(LSTM(units = 50, return_sequences = True))\n",
    "regressor.add(Dropout(rate = 0.2))\n",
    "\n",
    "##add 3rd lstm layer\n",
    "regressor.add(LSTM(units = 50, return_sequences = True))\n",
    "regressor.add(Dropout(rate = 0.2))\n",
    "\n",
    "##add 4th lstm layer\n",
    "regressor.add(LSTM(units = 50, return_sequences = False))\n",
    "regressor.add(Dropout(rate = 0.2))\n",
    "\n",
    "##add output layer\n",
    "regressor.add(Dense(units = 1))"
   ]
  },
  {
   "cell_type": "code",
   "execution_count": 36,
   "id": "9a00f5e4",
   "metadata": {},
   "outputs": [],
   "source": [
    "regressor.compile(optimizer = 'adam', loss = 'mean_squared_error')"
   ]
  },
  {
   "cell_type": "code",
   "execution_count": 49,
   "id": "808c2c9a",
   "metadata": {},
   "outputs": [
    {
     "name": "stdout",
     "output_type": "stream",
     "text": [
      "Epoch 1/100\n",
      "38/38 [==============================] - 6s 169ms/step - loss: 0.0042\n",
      "Epoch 2/100\n",
      "38/38 [==============================] - 6s 154ms/step - loss: 0.0047\n",
      "Epoch 3/100\n",
      "38/38 [==============================] - 5s 130ms/step - loss: 0.0041\n",
      "Epoch 4/100\n",
      "38/38 [==============================] - 6s 166ms/step - loss: 0.0039\n",
      "Epoch 5/100\n",
      "38/38 [==============================] - 6s 158ms/step - loss: 0.0041\n",
      "Epoch 6/100\n",
      "38/38 [==============================] - 7s 172ms/step - loss: 0.0041\n",
      "Epoch 7/100\n",
      "38/38 [==============================] - 6s 171ms/step - loss: 0.0037\n",
      "Epoch 8/100\n",
      "38/38 [==============================] - 6s 167ms/step - loss: 0.0038\n",
      "Epoch 9/100\n",
      "38/38 [==============================] - 6s 164ms/step - loss: 0.0034\n",
      "Epoch 10/100\n",
      "38/38 [==============================] - 6s 166ms/step - loss: 0.0034\n",
      "Epoch 11/100\n",
      "38/38 [==============================] - 6s 160ms/step - loss: 0.0035\n",
      "Epoch 12/100\n",
      "38/38 [==============================] - 6s 169ms/step - loss: 0.0038\n",
      "Epoch 13/100\n",
      "38/38 [==============================] - 7s 171ms/step - loss: 0.0034\n",
      "Epoch 14/100\n",
      "38/38 [==============================] - 6s 169ms/step - loss: 0.0035\n",
      "Epoch 15/100\n",
      "38/38 [==============================] - 7s 172ms/step - loss: 0.0032\n",
      "Epoch 16/100\n",
      "38/38 [==============================] - 6s 169ms/step - loss: 0.0032\n",
      "Epoch 17/100\n",
      "38/38 [==============================] - 6s 160ms/step - loss: 0.0033\n",
      "Epoch 18/100\n",
      "38/38 [==============================] - 7s 173ms/step - loss: 0.0031\n",
      "Epoch 19/100\n",
      "38/38 [==============================] - 6s 170ms/step - loss: 0.0033\n",
      "Epoch 20/100\n",
      "38/38 [==============================] - 7s 172ms/step - loss: 0.0028\n",
      "Epoch 21/100\n",
      "38/38 [==============================] - 7s 171ms/step - loss: 0.0034\n",
      "Epoch 22/100\n",
      "38/38 [==============================] - 6s 152ms/step - loss: 0.0027\n",
      "Epoch 23/100\n",
      "38/38 [==============================] - 6s 172ms/step - loss: 0.0027\n",
      "Epoch 24/100\n",
      "38/38 [==============================] - 7s 175ms/step - loss: 0.0026\n",
      "Epoch 25/100\n",
      "38/38 [==============================] - 7s 174ms/step - loss: 0.0030\n",
      "Epoch 26/100\n",
      "38/38 [==============================] - 7s 171ms/step - loss: 0.0027\n",
      "Epoch 27/100\n",
      "38/38 [==============================] - 7s 172ms/step - loss: 0.0028\n",
      "Epoch 28/100\n",
      "38/38 [==============================] - 7s 175ms/step - loss: 0.0026\n",
      "Epoch 29/100\n",
      "38/38 [==============================] - 7s 172ms/step - loss: 0.0032\n",
      "Epoch 30/100\n",
      "38/38 [==============================] - 7s 171ms/step - loss: 0.0027\n",
      "Epoch 31/100\n",
      "38/38 [==============================] - 7s 174ms/step - loss: 0.0026\n",
      "Epoch 32/100\n",
      "38/38 [==============================] - 7s 175ms/step - loss: 0.0025\n",
      "Epoch 33/100\n",
      "38/38 [==============================] - 7s 175ms/step - loss: 0.0026\n",
      "Epoch 34/100\n",
      "38/38 [==============================] - 7s 174ms/step - loss: 0.0025\n",
      "Epoch 35/100\n",
      "38/38 [==============================] - 7s 175ms/step - loss: 0.0025\n",
      "Epoch 36/100\n",
      "38/38 [==============================] - 7s 172ms/step - loss: 0.0024\n",
      "Epoch 37/100\n",
      "38/38 [==============================] - 6s 170ms/step - loss: 0.0026\n",
      "Epoch 38/100\n",
      "38/38 [==============================] - 6s 171ms/step - loss: 0.0025\n",
      "Epoch 39/100\n",
      "38/38 [==============================] - 7s 174ms/step - loss: 0.0022\n",
      "Epoch 40/100\n",
      "38/38 [==============================] - 7s 173ms/step - loss: 0.0027\n",
      "Epoch 41/100\n",
      "38/38 [==============================] - 6s 168ms/step - loss: 0.0026\n",
      "Epoch 42/100\n",
      "38/38 [==============================] - 7s 171ms/step - loss: 0.0022\n",
      "Epoch 43/100\n",
      "38/38 [==============================] - 7s 172ms/step - loss: 0.0023\n",
      "Epoch 44/100\n",
      "38/38 [==============================] - 7s 172ms/step - loss: 0.0024\n",
      "Epoch 45/100\n",
      "38/38 [==============================] - 7s 172ms/step - loss: 0.0025\n",
      "Epoch 46/100\n",
      "38/38 [==============================] - 7s 172ms/step - loss: 0.0024\n",
      "Epoch 47/100\n",
      "38/38 [==============================] - 7s 172ms/step - loss: 0.0023\n",
      "Epoch 48/100\n",
      "38/38 [==============================] - 7s 172ms/step - loss: 0.0024\n",
      "Epoch 49/100\n",
      "38/38 [==============================] - 7s 172ms/step - loss: 0.0022\n",
      "Epoch 50/100\n",
      "38/38 [==============================] - 6s 169ms/step - loss: 0.0026\n",
      "Epoch 51/100\n",
      "38/38 [==============================] - 7s 172ms/step - loss: 0.0022\n",
      "Epoch 52/100\n",
      "38/38 [==============================] - 6s 167ms/step - loss: 0.0020\n",
      "Epoch 53/100\n",
      "38/38 [==============================] - 7s 172ms/step - loss: 0.0021\n",
      "Epoch 54/100\n",
      "38/38 [==============================] - 7s 172ms/step - loss: 0.0021\n",
      "Epoch 55/100\n",
      "38/38 [==============================] - 7s 172ms/step - loss: 0.0021\n",
      "Epoch 56/100\n",
      "38/38 [==============================] - 6s 171ms/step - loss: 0.0017\n",
      "Epoch 57/100\n",
      "38/38 [==============================] - 7s 173ms/step - loss: 0.0020\n",
      "Epoch 58/100\n",
      "38/38 [==============================] - 6s 164ms/step - loss: 0.0019\n",
      "Epoch 59/100\n",
      "38/38 [==============================] - 6s 157ms/step - loss: 0.0018\n",
      "Epoch 60/100\n",
      "38/38 [==============================] - 6s 157ms/step - loss: 0.0023\n",
      "Epoch 61/100\n",
      "38/38 [==============================] - 6s 158ms/step - loss: 0.0021\n",
      "Epoch 62/100\n",
      "38/38 [==============================] - 6s 157ms/step - loss: 0.0020\n",
      "Epoch 63/100\n",
      "38/38 [==============================] - 6s 157ms/step - loss: 0.0019\n",
      "Epoch 64/100\n",
      "38/38 [==============================] - 6s 154ms/step - loss: 0.0018\n",
      "Epoch 65/100\n",
      "38/38 [==============================] - 6s 160ms/step - loss: 0.0020\n",
      "Epoch 66/100\n",
      "38/38 [==============================] - 6s 158ms/step - loss: 0.0017\n",
      "Epoch 67/100\n",
      "38/38 [==============================] - 6s 156ms/step - loss: 0.0019\n",
      "Epoch 68/100\n",
      "38/38 [==============================] - 6s 155ms/step - loss: 0.0018\n",
      "Epoch 69/100\n",
      "38/38 [==============================] - 6s 161ms/step - loss: 0.0017\n",
      "Epoch 70/100\n",
      "38/38 [==============================] - 6s 155ms/step - loss: 0.0017\n",
      "Epoch 71/100\n",
      "38/38 [==============================] - 6s 147ms/step - loss: 0.0017\n",
      "Epoch 72/100\n",
      "38/38 [==============================] - 8s 204ms/step - loss: 0.0015\n",
      "Epoch 73/100\n",
      "38/38 [==============================] - 5s 132ms/step - loss: 0.0015\n",
      "Epoch 74/100\n",
      "38/38 [==============================] - 5s 128ms/step - loss: 0.0018\n",
      "Epoch 75/100\n",
      "38/38 [==============================] - 5s 133ms/step - loss: 0.0017\n",
      "Epoch 76/100\n",
      "38/38 [==============================] - 5s 145ms/step - loss: 0.0015\n",
      "Epoch 77/100\n",
      "38/38 [==============================] - 6s 160ms/step - loss: 0.0017\n",
      "Epoch 78/100\n",
      "38/38 [==============================] - 6s 154ms/step - loss: 0.0015\n",
      "Epoch 79/100\n",
      "38/38 [==============================] - 6s 153ms/step - loss: 0.0015\n",
      "Epoch 80/100\n",
      "38/38 [==============================] - 6s 157ms/step - loss: 0.0015\n",
      "Epoch 81/100\n",
      "38/38 [==============================] - 6s 158ms/step - loss: 0.0017\n",
      "Epoch 82/100\n",
      "38/38 [==============================] - 6s 158ms/step - loss: 0.0016\n",
      "Epoch 83/100\n",
      "38/38 [==============================] - 6s 155ms/step - loss: 0.0018\n",
      "Epoch 84/100\n",
      "38/38 [==============================] - 6s 165ms/step - loss: 0.0014\n",
      "Epoch 85/100\n",
      "38/38 [==============================] - 8s 215ms/step - loss: 0.0015\n",
      "Epoch 86/100\n",
      "38/38 [==============================] - 6s 167ms/step - loss: 0.0017\n",
      "Epoch 87/100\n",
      "38/38 [==============================] - 7s 172ms/step - loss: 0.0015\n",
      "Epoch 88/100\n",
      "38/38 [==============================] - 6s 161ms/step - loss: 0.0015\n",
      "Epoch 89/100\n",
      "38/38 [==============================] - 6s 166ms/step - loss: 0.0015\n",
      "Epoch 90/100\n",
      "38/38 [==============================] - 7s 172ms/step - loss: 0.0014\n",
      "Epoch 91/100\n",
      "38/38 [==============================] - 6s 155ms/step - loss: 0.0015\n",
      "Epoch 92/100\n",
      "38/38 [==============================] - 6s 156ms/step - loss: 0.0015\n",
      "Epoch 93/100\n",
      "38/38 [==============================] - 6s 165ms/step - loss: 0.0015\n",
      "Epoch 94/100\n",
      "38/38 [==============================] - 6s 159ms/step - loss: 0.0013\n",
      "Epoch 95/100\n",
      "38/38 [==============================] - 6s 161ms/step - loss: 0.0013\n",
      "Epoch 96/100\n",
      "38/38 [==============================] - 7s 174ms/step - loss: 0.0016\n",
      "Epoch 97/100\n",
      "38/38 [==============================] - 6s 167ms/step - loss: 0.0014\n",
      "Epoch 98/100\n",
      "38/38 [==============================] - 6s 157ms/step - loss: 0.0012\n",
      "Epoch 99/100\n"
     ]
    },
    {
     "name": "stdout",
     "output_type": "stream",
     "text": [
      "38/38 [==============================] - 6s 167ms/step - loss: 0.0014\n",
      "Epoch 100/100\n",
      "38/38 [==============================] - 6s 167ms/step - loss: 0.0016\n"
     ]
    },
    {
     "data": {
      "text/plain": [
       "<keras.src.callbacks.History at 0x26d7d9ce990>"
      ]
     },
     "execution_count": 49,
     "metadata": {},
     "output_type": "execute_result"
    }
   ],
   "source": [
    "regressor.fit(x = X_train, y = y_train, batch_size = 32, epochs = 100)"
   ]
  },
  {
   "cell_type": "code",
   "execution_count": 50,
   "id": "ac529695",
   "metadata": {},
   "outputs": [],
   "source": [
    "dataset_test = pd.read_csv('D:\\datasets\\Google_Stock_Price_Test.csv')"
   ]
  },
  {
   "cell_type": "code",
   "execution_count": 51,
   "id": "9f5631f8",
   "metadata": {},
   "outputs": [
    {
     "data": {
      "text/html": [
       "<div>\n",
       "<style scoped>\n",
       "    .dataframe tbody tr th:only-of-type {\n",
       "        vertical-align: middle;\n",
       "    }\n",
       "\n",
       "    .dataframe tbody tr th {\n",
       "        vertical-align: top;\n",
       "    }\n",
       "\n",
       "    .dataframe thead th {\n",
       "        text-align: right;\n",
       "    }\n",
       "</style>\n",
       "<table border=\"1\" class=\"dataframe\">\n",
       "  <thead>\n",
       "    <tr style=\"text-align: right;\">\n",
       "      <th></th>\n",
       "      <th>Date</th>\n",
       "      <th>Open</th>\n",
       "      <th>High</th>\n",
       "      <th>Low</th>\n",
       "      <th>Close</th>\n",
       "      <th>Volume</th>\n",
       "    </tr>\n",
       "  </thead>\n",
       "  <tbody>\n",
       "    <tr>\n",
       "      <th>0</th>\n",
       "      <td>1/3/2017</td>\n",
       "      <td>778.81</td>\n",
       "      <td>789.63</td>\n",
       "      <td>775.80</td>\n",
       "      <td>786.14</td>\n",
       "      <td>1,657,300</td>\n",
       "    </tr>\n",
       "    <tr>\n",
       "      <th>1</th>\n",
       "      <td>1/4/2017</td>\n",
       "      <td>788.36</td>\n",
       "      <td>791.34</td>\n",
       "      <td>783.16</td>\n",
       "      <td>786.90</td>\n",
       "      <td>1,073,000</td>\n",
       "    </tr>\n",
       "    <tr>\n",
       "      <th>2</th>\n",
       "      <td>1/5/2017</td>\n",
       "      <td>786.08</td>\n",
       "      <td>794.48</td>\n",
       "      <td>785.02</td>\n",
       "      <td>794.02</td>\n",
       "      <td>1,335,200</td>\n",
       "    </tr>\n",
       "    <tr>\n",
       "      <th>3</th>\n",
       "      <td>1/6/2017</td>\n",
       "      <td>795.26</td>\n",
       "      <td>807.90</td>\n",
       "      <td>792.20</td>\n",
       "      <td>806.15</td>\n",
       "      <td>1,640,200</td>\n",
       "    </tr>\n",
       "    <tr>\n",
       "      <th>4</th>\n",
       "      <td>1/9/2017</td>\n",
       "      <td>806.40</td>\n",
       "      <td>809.97</td>\n",
       "      <td>802.83</td>\n",
       "      <td>806.65</td>\n",
       "      <td>1,272,400</td>\n",
       "    </tr>\n",
       "  </tbody>\n",
       "</table>\n",
       "</div>"
      ],
      "text/plain": [
       "       Date    Open    High     Low   Close     Volume\n",
       "0  1/3/2017  778.81  789.63  775.80  786.14  1,657,300\n",
       "1  1/4/2017  788.36  791.34  783.16  786.90  1,073,000\n",
       "2  1/5/2017  786.08  794.48  785.02  794.02  1,335,200\n",
       "3  1/6/2017  795.26  807.90  792.20  806.15  1,640,200\n",
       "4  1/9/2017  806.40  809.97  802.83  806.65  1,272,400"
      ]
     },
     "execution_count": 51,
     "metadata": {},
     "output_type": "execute_result"
    }
   ],
   "source": [
    "dataset_test.head()"
   ]
  },
  {
   "cell_type": "code",
   "execution_count": 52,
   "id": "adef83ff",
   "metadata": {},
   "outputs": [
    {
     "data": {
      "text/plain": [
       "(20, 1)"
      ]
     },
     "execution_count": 52,
     "metadata": {},
     "output_type": "execute_result"
    }
   ],
   "source": [
    "#keras only takes numpy array\n",
    "real_stock_price = dataset_test.iloc[:, 1: 2].values\n",
    "real_stock_price.shape"
   ]
  },
  {
   "cell_type": "code",
   "execution_count": 53,
   "id": "f92959d0",
   "metadata": {},
   "outputs": [],
   "source": [
    "#vertical concat use 0, horizontal uses 1\n",
    "dataset_total = pd.concat((dataset_train['Open'], dataset_test['Open']), axis = 0)\n",
    "##use .values to make numpy array\n",
    "inputs = dataset_total[len(dataset_total) - len(dataset_test) - 60:].values"
   ]
  },
  {
   "cell_type": "code",
   "execution_count": 54,
   "id": "2bf57231",
   "metadata": {},
   "outputs": [],
   "source": [
    "#reshape data to only have 1 col\n",
    "inputs = inputs.reshape(-1, 1)\n",
    "#scale input\n",
    "inputs = sc.transform(inputs)"
   ]
  },
  {
   "cell_type": "code",
   "execution_count": 55,
   "id": "118b606c",
   "metadata": {},
   "outputs": [
    {
     "data": {
      "text/plain": [
       "80"
      ]
     },
     "execution_count": 55,
     "metadata": {},
     "output_type": "execute_result"
    }
   ],
   "source": [
    "len(inputs)"
   ]
  },
  {
   "cell_type": "code",
   "execution_count": 56,
   "id": "19ed02bc",
   "metadata": {},
   "outputs": [],
   "source": [
    "X_test = []\n",
    "for i in range(60, len(inputs)):\n",
    "    X_test.append(inputs[i-60:i, 0])\n",
    "X_test = np.array(X_test)\n",
    "#add dimension of indicator\n",
    "X_test = np.reshape(X_test, (X_test.shape[0], X_test.shape[1], 1))"
   ]
  },
  {
   "cell_type": "code",
   "execution_count": 57,
   "id": "133a6d64",
   "metadata": {},
   "outputs": [
    {
     "data": {
      "text/plain": [
       "(20, 60, 1)"
      ]
     },
     "execution_count": 57,
     "metadata": {},
     "output_type": "execute_result"
    }
   ],
   "source": [
    "X_test.shape"
   ]
  },
  {
   "cell_type": "code",
   "execution_count": 58,
   "id": "8ce224bd",
   "metadata": {},
   "outputs": [
    {
     "name": "stdout",
     "output_type": "stream",
     "text": [
      "1/1 [==============================] - 0s 94ms/step\n"
     ]
    }
   ],
   "source": [
    "predicted_stock_price = regressor.predict(X_test)"
   ]
  },
  {
   "cell_type": "code",
   "execution_count": 59,
   "id": "50d7ee75",
   "metadata": {},
   "outputs": [],
   "source": [
    "#inverse the scaled value\n",
    "predicted_stock_price = sc.inverse_transform(predicted_stock_price)"
   ]
  },
  {
   "cell_type": "code",
   "execution_count": 60,
   "id": "28e763b1",
   "metadata": {},
   "outputs": [
    {
     "data": {
      "image/png": "[encoded data removed]",
      "text/plain": [
       "<Figure size 640x480 with 1 Axes>"
      ]
     },
     "metadata": {},
     "output_type": "display_data"
    }
   ],
   "source": [
    "##visualize the prediction and real price\n",
    "plt.plot(real_stock_price, color = 'red', label = 'Real price')\n",
    "plt.plot(predicted_stock_price, color = 'blue', label = 'Predicted price')\n",
    "\n",
    "plt.title('Google price prediction')\n",
    "plt.xlabel('Time')\n",
    "plt.ylabel('Price')\n",
    "plt.legend()\n",
    "plt.show()"
   ]
  }
 ],
 "metadata": {
  "kernelspec": {
   "display_name": "Python 3 (ipykernel)",
   "language": "python",
   "name": "python3"
  },
  "language_info": {
   "codemirror_mode": {
    "name": "ipython",
    "version": 3
   },
   "file_extension": ".py",
   "mimetype": "text/x-python",
   "name": "python",
   "nbconvert_exporter": "python",
   "pygments_lexer": "ipython3",
   "version": "3.11.3"
  }
 },
 "nbformat": 4,
 "nbformat_minor": 5
}
