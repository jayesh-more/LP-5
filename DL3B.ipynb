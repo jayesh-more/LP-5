{
 "cells": [
  {
   "cell_type": "code",
   "execution_count": 59,
   "id": "fcd97be7",
   "metadata": {},
   "outputs": [],
   "source": [
    "import pandas as pd\n",
    "import numpy as np\n",
    "import matplotlib.pyplot as plt"
   ]
  },
  {
   "cell_type": "code",
   "execution_count": 60,
   "id": "60ba84f9",
   "metadata": {},
   "outputs": [],
   "source": [
    "class_names=['T-shirt/top', 'Trouser', 'Pullover', 'Dress', 'Coat', 'Sandal', 'Shirt', 'Sneaker', 'Bag', 'Ankleboot']"
   ]
  },
  {
   "cell_type": "code",
   "execution_count": 61,
   "id": "0cb93f63",
   "metadata": {},
   "outputs": [],
   "source": [
    "df1 = pd.read_csv(r'D:\\fashion-mnist_train.csv')"
   ]
  },
  {
   "cell_type": "code",
   "execution_count": 62,
   "id": "df7c221c",
   "metadata": {},
   "outputs": [
    {
     "data": {
      "text/html": [
       "<div>\n",
       "<style scoped>\n",
       "    .dataframe tbody tr th:only-of-type {\n",
       "        vertical-align: middle;\n",
       "    }\n",
       "\n",
       "    .dataframe tbody tr th {\n",
       "        vertical-align: top;\n",
       "    }\n",
       "\n",
       "    .dataframe thead th {\n",
       "        text-align: right;\n",
       "    }\n",
       "</style>\n",
       "<table border=\"1\" class=\"dataframe\">\n",
       "  <thead>\n",
       "    <tr style=\"text-align: right;\">\n",
       "      <th></th>\n",
       "      <th>label</th>\n",
       "      <th>pixel1</th>\n",
       "      <th>pixel2</th>\n",
       "      <th>pixel3</th>\n",
       "      <th>pixel4</th>\n",
       "      <th>pixel5</th>\n",
       "      <th>pixel6</th>\n",
       "      <th>pixel7</th>\n",
       "      <th>pixel8</th>\n",
       "      <th>pixel9</th>\n",
       "      <th>...</th>\n",
       "      <th>pixel775</th>\n",
       "      <th>pixel776</th>\n",
       "      <th>pixel777</th>\n",
       "      <th>pixel778</th>\n",
       "      <th>pixel779</th>\n",
       "      <th>pixel780</th>\n",
       "      <th>pixel781</th>\n",
       "      <th>pixel782</th>\n",
       "      <th>pixel783</th>\n",
       "      <th>pixel784</th>\n",
       "    </tr>\n",
       "  </thead>\n",
       "  <tbody>\n",
       "    <tr>\n",
       "      <th>0</th>\n",
       "      <td>2</td>\n",
       "      <td>0</td>\n",
       "      <td>0</td>\n",
       "      <td>0</td>\n",
       "      <td>0</td>\n",
       "      <td>0</td>\n",
       "      <td>0</td>\n",
       "      <td>0</td>\n",
       "      <td>0</td>\n",
       "      <td>0</td>\n",
       "      <td>...</td>\n",
       "      <td>0</td>\n",
       "      <td>0</td>\n",
       "      <td>0</td>\n",
       "      <td>0</td>\n",
       "      <td>0</td>\n",
       "      <td>0</td>\n",
       "      <td>0</td>\n",
       "      <td>0</td>\n",
       "      <td>0</td>\n",
       "      <td>0</td>\n",
       "    </tr>\n",
       "    <tr>\n",
       "      <th>1</th>\n",
       "      <td>9</td>\n",
       "      <td>0</td>\n",
       "      <td>0</td>\n",
       "      <td>0</td>\n",
       "      <td>0</td>\n",
       "      <td>0</td>\n",
       "      <td>0</td>\n",
       "      <td>0</td>\n",
       "      <td>0</td>\n",
       "      <td>0</td>\n",
       "      <td>...</td>\n",
       "      <td>0</td>\n",
       "      <td>0</td>\n",
       "      <td>0</td>\n",
       "      <td>0</td>\n",
       "      <td>0</td>\n",
       "      <td>0</td>\n",
       "      <td>0</td>\n",
       "      <td>0</td>\n",
       "      <td>0</td>\n",
       "      <td>0</td>\n",
       "    </tr>\n",
       "    <tr>\n",
       "      <th>2</th>\n",
       "      <td>6</td>\n",
       "      <td>0</td>\n",
       "      <td>0</td>\n",
       "      <td>0</td>\n",
       "      <td>0</td>\n",
       "      <td>0</td>\n",
       "      <td>0</td>\n",
       "      <td>0</td>\n",
       "      <td>5</td>\n",
       "      <td>0</td>\n",
       "      <td>...</td>\n",
       "      <td>0</td>\n",
       "      <td>0</td>\n",
       "      <td>0</td>\n",
       "      <td>30</td>\n",
       "      <td>43</td>\n",
       "      <td>0</td>\n",
       "      <td>0</td>\n",
       "      <td>0</td>\n",
       "      <td>0</td>\n",
       "      <td>0</td>\n",
       "    </tr>\n",
       "    <tr>\n",
       "      <th>3</th>\n",
       "      <td>0</td>\n",
       "      <td>0</td>\n",
       "      <td>0</td>\n",
       "      <td>0</td>\n",
       "      <td>1</td>\n",
       "      <td>2</td>\n",
       "      <td>0</td>\n",
       "      <td>0</td>\n",
       "      <td>0</td>\n",
       "      <td>0</td>\n",
       "      <td>...</td>\n",
       "      <td>3</td>\n",
       "      <td>0</td>\n",
       "      <td>0</td>\n",
       "      <td>0</td>\n",
       "      <td>0</td>\n",
       "      <td>1</td>\n",
       "      <td>0</td>\n",
       "      <td>0</td>\n",
       "      <td>0</td>\n",
       "      <td>0</td>\n",
       "    </tr>\n",
       "    <tr>\n",
       "      <th>4</th>\n",
       "      <td>3</td>\n",
       "      <td>0</td>\n",
       "      <td>0</td>\n",
       "      <td>0</td>\n",
       "      <td>0</td>\n",
       "      <td>0</td>\n",
       "      <td>0</td>\n",
       "      <td>0</td>\n",
       "      <td>0</td>\n",
       "      <td>0</td>\n",
       "      <td>...</td>\n",
       "      <td>0</td>\n",
       "      <td>0</td>\n",
       "      <td>0</td>\n",
       "      <td>0</td>\n",
       "      <td>0</td>\n",
       "      <td>0</td>\n",
       "      <td>0</td>\n",
       "      <td>0</td>\n",
       "      <td>0</td>\n",
       "      <td>0</td>\n",
       "    </tr>\n",
       "    <tr>\n",
       "      <th>...</th>\n",
       "      <td>...</td>\n",
       "      <td>...</td>\n",
       "      <td>...</td>\n",
       "      <td>...</td>\n",
       "      <td>...</td>\n",
       "      <td>...</td>\n",
       "      <td>...</td>\n",
       "      <td>...</td>\n",
       "      <td>...</td>\n",
       "      <td>...</td>\n",
       "      <td>...</td>\n",
       "      <td>...</td>\n",
       "      <td>...</td>\n",
       "      <td>...</td>\n",
       "      <td>...</td>\n",
       "      <td>...</td>\n",
       "      <td>...</td>\n",
       "      <td>...</td>\n",
       "      <td>...</td>\n",
       "      <td>...</td>\n",
       "      <td>...</td>\n",
       "    </tr>\n",
       "    <tr>\n",
       "      <th>59995</th>\n",
       "      <td>9</td>\n",
       "      <td>0</td>\n",
       "      <td>0</td>\n",
       "      <td>0</td>\n",
       "      <td>0</td>\n",
       "      <td>0</td>\n",
       "      <td>0</td>\n",
       "      <td>0</td>\n",
       "      <td>0</td>\n",
       "      <td>0</td>\n",
       "      <td>...</td>\n",
       "      <td>0</td>\n",
       "      <td>0</td>\n",
       "      <td>0</td>\n",
       "      <td>0</td>\n",
       "      <td>0</td>\n",
       "      <td>0</td>\n",
       "      <td>0</td>\n",
       "      <td>0</td>\n",
       "      <td>0</td>\n",
       "      <td>0</td>\n",
       "    </tr>\n",
       "    <tr>\n",
       "      <th>59996</th>\n",
       "      <td>1</td>\n",
       "      <td>0</td>\n",
       "      <td>0</td>\n",
       "      <td>0</td>\n",
       "      <td>0</td>\n",
       "      <td>0</td>\n",
       "      <td>0</td>\n",
       "      <td>0</td>\n",
       "      <td>0</td>\n",
       "      <td>0</td>\n",
       "      <td>...</td>\n",
       "      <td>73</td>\n",
       "      <td>0</td>\n",
       "      <td>0</td>\n",
       "      <td>0</td>\n",
       "      <td>0</td>\n",
       "      <td>0</td>\n",
       "      <td>0</td>\n",
       "      <td>0</td>\n",
       "      <td>0</td>\n",
       "      <td>0</td>\n",
       "    </tr>\n",
       "    <tr>\n",
       "      <th>59997</th>\n",
       "      <td>8</td>\n",
       "      <td>0</td>\n",
       "      <td>0</td>\n",
       "      <td>0</td>\n",
       "      <td>0</td>\n",
       "      <td>0</td>\n",
       "      <td>0</td>\n",
       "      <td>0</td>\n",
       "      <td>0</td>\n",
       "      <td>0</td>\n",
       "      <td>...</td>\n",
       "      <td>160</td>\n",
       "      <td>162</td>\n",
       "      <td>163</td>\n",
       "      <td>135</td>\n",
       "      <td>94</td>\n",
       "      <td>0</td>\n",
       "      <td>0</td>\n",
       "      <td>0</td>\n",
       "      <td>0</td>\n",
       "      <td>0</td>\n",
       "    </tr>\n",
       "    <tr>\n",
       "      <th>59998</th>\n",
       "      <td>8</td>\n",
       "      <td>0</td>\n",
       "      <td>0</td>\n",
       "      <td>0</td>\n",
       "      <td>0</td>\n",
       "      <td>0</td>\n",
       "      <td>0</td>\n",
       "      <td>0</td>\n",
       "      <td>0</td>\n",
       "      <td>0</td>\n",
       "      <td>...</td>\n",
       "      <td>0</td>\n",
       "      <td>0</td>\n",
       "      <td>0</td>\n",
       "      <td>0</td>\n",
       "      <td>0</td>\n",
       "      <td>0</td>\n",
       "      <td>0</td>\n",
       "      <td>0</td>\n",
       "      <td>0</td>\n",
       "      <td>0</td>\n",
       "    </tr>\n",
       "    <tr>\n",
       "      <th>59999</th>\n",
       "      <td>7</td>\n",
       "      <td>0</td>\n",
       "      <td>0</td>\n",
       "      <td>0</td>\n",
       "      <td>0</td>\n",
       "      <td>0</td>\n",
       "      <td>0</td>\n",
       "      <td>0</td>\n",
       "      <td>0</td>\n",
       "      <td>0</td>\n",
       "      <td>...</td>\n",
       "      <td>0</td>\n",
       "      <td>0</td>\n",
       "      <td>0</td>\n",
       "      <td>0</td>\n",
       "      <td>0</td>\n",
       "      <td>0</td>\n",
       "      <td>0</td>\n",
       "      <td>0</td>\n",
       "      <td>0</td>\n",
       "      <td>0</td>\n",
       "    </tr>\n",
       "  </tbody>\n",
       "</table>\n",
       "<p>60000 rows × 785 columns</p>\n",
       "</div>"
      ],
      "text/plain": [
       "       label  pixel1  pixel2  pixel3  pixel4  pixel5  pixel6  pixel7  pixel8  \\\n",
       "0          2       0       0       0       0       0       0       0       0   \n",
       "1          9       0       0       0       0       0       0       0       0   \n",
       "2          6       0       0       0       0       0       0       0       5   \n",
       "3          0       0       0       0       1       2       0       0       0   \n",
       "4          3       0       0       0       0       0       0       0       0   \n",
       "...      ...     ...     ...     ...     ...     ...     ...     ...     ...   \n",
       "59995      9       0       0       0       0       0       0       0       0   \n",
       "59996      1       0       0       0       0       0       0       0       0   \n",
       "59997      8       0       0       0       0       0       0       0       0   \n",
       "59998      8       0       0       0       0       0       0       0       0   \n",
       "59999      7       0       0       0       0       0       0       0       0   \n",
       "\n",
       "       pixel9  ...  pixel775  pixel776  pixel777  pixel778  pixel779  \\\n",
       "0           0  ...         0         0         0         0         0   \n",
       "1           0  ...         0         0         0         0         0   \n",
       "2           0  ...         0         0         0        30        43   \n",
       "3           0  ...         3         0         0         0         0   \n",
       "4           0  ...         0         0         0         0         0   \n",
       "...       ...  ...       ...       ...       ...       ...       ...   \n",
       "59995       0  ...         0         0         0         0         0   \n",
       "59996       0  ...        73         0         0         0         0   \n",
       "59997       0  ...       160       162       163       135        94   \n",
       "59998       0  ...         0         0         0         0         0   \n",
       "59999       0  ...         0         0         0         0         0   \n",
       "\n",
       "       pixel780  pixel781  pixel782  pixel783  pixel784  \n",
       "0             0         0         0         0         0  \n",
       "1             0         0         0         0         0  \n",
       "2             0         0         0         0         0  \n",
       "3             1         0         0         0         0  \n",
       "4             0         0         0         0         0  \n",
       "...         ...       ...       ...       ...       ...  \n",
       "59995         0         0         0         0         0  \n",
       "59996         0         0         0         0         0  \n",
       "59997         0         0         0         0         0  \n",
       "59998         0         0         0         0         0  \n",
       "59999         0         0         0         0         0  \n",
       "\n",
       "[60000 rows x 785 columns]"
      ]
     },
     "execution_count": 62,
     "metadata": {},
     "output_type": "execute_result"
    }
   ],
   "source": [
    "df1"
   ]
  },
  {
   "cell_type": "code",
   "execution_count": 63,
   "id": "03879612",
   "metadata": {},
   "outputs": [],
   "source": [
    "x_train = df1.drop(\"label\", axis=1).values\n",
    "y_train = df1[\"label\"].values"
   ]
  },
  {
   "cell_type": "code",
   "execution_count": 64,
   "id": "b388a759",
   "metadata": {},
   "outputs": [
    {
     "name": "stdout",
     "output_type": "stream",
     "text": [
      "x_train shape:  (60000, 784)\n",
      "y_train shape:  (60000,)\n"
     ]
    }
   ],
   "source": [
    "print(\"x_train shape: \",x_train.shape)\n",
    "print(\"y_train shape: \",y_train.shape)"
   ]
  },
  {
   "cell_type": "code",
   "execution_count": 65,
   "id": "0244e2cc",
   "metadata": {},
   "outputs": [
    {
     "data": {
      "text/plain": [
       "array([0, 1, 2, 3, 4, 5, 6, 7, 8, 9], dtype=int64)"
      ]
     },
     "execution_count": 65,
     "metadata": {},
     "output_type": "execute_result"
    }
   ],
   "source": [
    "np.unique(y_train)"
   ]
  },
  {
   "cell_type": "code",
   "execution_count": 66,
   "id": "a4c641d1",
   "metadata": {},
   "outputs": [],
   "source": [
    "df2 = pd.read_csv(r'D:\\fashion-mnist_test.csv')"
   ]
  },
  {
   "cell_type": "code",
   "execution_count": 67,
   "id": "ecef66c9",
   "metadata": {},
   "outputs": [
    {
     "data": {
      "text/html": [
       "<div>\n",
       "<style scoped>\n",
       "    .dataframe tbody tr th:only-of-type {\n",
       "        vertical-align: middle;\n",
       "    }\n",
       "\n",
       "    .dataframe tbody tr th {\n",
       "        vertical-align: top;\n",
       "    }\n",
       "\n",
       "    .dataframe thead th {\n",
       "        text-align: right;\n",
       "    }\n",
       "</style>\n",
       "<table border=\"1\" class=\"dataframe\">\n",
       "  <thead>\n",
       "    <tr style=\"text-align: right;\">\n",
       "      <th></th>\n",
       "      <th>label</th>\n",
       "      <th>pixel1</th>\n",
       "      <th>pixel2</th>\n",
       "      <th>pixel3</th>\n",
       "      <th>pixel4</th>\n",
       "      <th>pixel5</th>\n",
       "      <th>pixel6</th>\n",
       "      <th>pixel7</th>\n",
       "      <th>pixel8</th>\n",
       "      <th>pixel9</th>\n",
       "      <th>...</th>\n",
       "      <th>pixel775</th>\n",
       "      <th>pixel776</th>\n",
       "      <th>pixel777</th>\n",
       "      <th>pixel778</th>\n",
       "      <th>pixel779</th>\n",
       "      <th>pixel780</th>\n",
       "      <th>pixel781</th>\n",
       "      <th>pixel782</th>\n",
       "      <th>pixel783</th>\n",
       "      <th>pixel784</th>\n",
       "    </tr>\n",
       "  </thead>\n",
       "  <tbody>\n",
       "    <tr>\n",
       "      <th>0</th>\n",
       "      <td>0</td>\n",
       "      <td>0</td>\n",
       "      <td>0</td>\n",
       "      <td>0</td>\n",
       "      <td>0</td>\n",
       "      <td>0</td>\n",
       "      <td>0</td>\n",
       "      <td>0</td>\n",
       "      <td>9</td>\n",
       "      <td>8</td>\n",
       "      <td>...</td>\n",
       "      <td>103</td>\n",
       "      <td>87</td>\n",
       "      <td>56</td>\n",
       "      <td>0</td>\n",
       "      <td>0</td>\n",
       "      <td>0</td>\n",
       "      <td>0</td>\n",
       "      <td>0</td>\n",
       "      <td>0</td>\n",
       "      <td>0</td>\n",
       "    </tr>\n",
       "    <tr>\n",
       "      <th>1</th>\n",
       "      <td>1</td>\n",
       "      <td>0</td>\n",
       "      <td>0</td>\n",
       "      <td>0</td>\n",
       "      <td>0</td>\n",
       "      <td>0</td>\n",
       "      <td>0</td>\n",
       "      <td>0</td>\n",
       "      <td>0</td>\n",
       "      <td>0</td>\n",
       "      <td>...</td>\n",
       "      <td>34</td>\n",
       "      <td>0</td>\n",
       "      <td>0</td>\n",
       "      <td>0</td>\n",
       "      <td>0</td>\n",
       "      <td>0</td>\n",
       "      <td>0</td>\n",
       "      <td>0</td>\n",
       "      <td>0</td>\n",
       "      <td>0</td>\n",
       "    </tr>\n",
       "    <tr>\n",
       "      <th>2</th>\n",
       "      <td>2</td>\n",
       "      <td>0</td>\n",
       "      <td>0</td>\n",
       "      <td>0</td>\n",
       "      <td>0</td>\n",
       "      <td>0</td>\n",
       "      <td>0</td>\n",
       "      <td>14</td>\n",
       "      <td>53</td>\n",
       "      <td>99</td>\n",
       "      <td>...</td>\n",
       "      <td>0</td>\n",
       "      <td>0</td>\n",
       "      <td>0</td>\n",
       "      <td>0</td>\n",
       "      <td>63</td>\n",
       "      <td>53</td>\n",
       "      <td>31</td>\n",
       "      <td>0</td>\n",
       "      <td>0</td>\n",
       "      <td>0</td>\n",
       "    </tr>\n",
       "    <tr>\n",
       "      <th>3</th>\n",
       "      <td>2</td>\n",
       "      <td>0</td>\n",
       "      <td>0</td>\n",
       "      <td>0</td>\n",
       "      <td>0</td>\n",
       "      <td>0</td>\n",
       "      <td>0</td>\n",
       "      <td>0</td>\n",
       "      <td>0</td>\n",
       "      <td>0</td>\n",
       "      <td>...</td>\n",
       "      <td>137</td>\n",
       "      <td>126</td>\n",
       "      <td>140</td>\n",
       "      <td>0</td>\n",
       "      <td>133</td>\n",
       "      <td>224</td>\n",
       "      <td>222</td>\n",
       "      <td>56</td>\n",
       "      <td>0</td>\n",
       "      <td>0</td>\n",
       "    </tr>\n",
       "    <tr>\n",
       "      <th>4</th>\n",
       "      <td>3</td>\n",
       "      <td>0</td>\n",
       "      <td>0</td>\n",
       "      <td>0</td>\n",
       "      <td>0</td>\n",
       "      <td>0</td>\n",
       "      <td>0</td>\n",
       "      <td>0</td>\n",
       "      <td>0</td>\n",
       "      <td>0</td>\n",
       "      <td>...</td>\n",
       "      <td>0</td>\n",
       "      <td>0</td>\n",
       "      <td>0</td>\n",
       "      <td>0</td>\n",
       "      <td>0</td>\n",
       "      <td>0</td>\n",
       "      <td>0</td>\n",
       "      <td>0</td>\n",
       "      <td>0</td>\n",
       "      <td>0</td>\n",
       "    </tr>\n",
       "    <tr>\n",
       "      <th>...</th>\n",
       "      <td>...</td>\n",
       "      <td>...</td>\n",
       "      <td>...</td>\n",
       "      <td>...</td>\n",
       "      <td>...</td>\n",
       "      <td>...</td>\n",
       "      <td>...</td>\n",
       "      <td>...</td>\n",
       "      <td>...</td>\n",
       "      <td>...</td>\n",
       "      <td>...</td>\n",
       "      <td>...</td>\n",
       "      <td>...</td>\n",
       "      <td>...</td>\n",
       "      <td>...</td>\n",
       "      <td>...</td>\n",
       "      <td>...</td>\n",
       "      <td>...</td>\n",
       "      <td>...</td>\n",
       "      <td>...</td>\n",
       "      <td>...</td>\n",
       "    </tr>\n",
       "    <tr>\n",
       "      <th>9995</th>\n",
       "      <td>0</td>\n",
       "      <td>0</td>\n",
       "      <td>0</td>\n",
       "      <td>0</td>\n",
       "      <td>0</td>\n",
       "      <td>0</td>\n",
       "      <td>0</td>\n",
       "      <td>0</td>\n",
       "      <td>0</td>\n",
       "      <td>0</td>\n",
       "      <td>...</td>\n",
       "      <td>32</td>\n",
       "      <td>23</td>\n",
       "      <td>14</td>\n",
       "      <td>20</td>\n",
       "      <td>0</td>\n",
       "      <td>0</td>\n",
       "      <td>1</td>\n",
       "      <td>0</td>\n",
       "      <td>0</td>\n",
       "      <td>0</td>\n",
       "    </tr>\n",
       "    <tr>\n",
       "      <th>9996</th>\n",
       "      <td>6</td>\n",
       "      <td>0</td>\n",
       "      <td>0</td>\n",
       "      <td>0</td>\n",
       "      <td>0</td>\n",
       "      <td>0</td>\n",
       "      <td>0</td>\n",
       "      <td>0</td>\n",
       "      <td>0</td>\n",
       "      <td>0</td>\n",
       "      <td>...</td>\n",
       "      <td>0</td>\n",
       "      <td>0</td>\n",
       "      <td>0</td>\n",
       "      <td>2</td>\n",
       "      <td>52</td>\n",
       "      <td>23</td>\n",
       "      <td>28</td>\n",
       "      <td>0</td>\n",
       "      <td>0</td>\n",
       "      <td>0</td>\n",
       "    </tr>\n",
       "    <tr>\n",
       "      <th>9997</th>\n",
       "      <td>8</td>\n",
       "      <td>0</td>\n",
       "      <td>0</td>\n",
       "      <td>0</td>\n",
       "      <td>0</td>\n",
       "      <td>0</td>\n",
       "      <td>0</td>\n",
       "      <td>0</td>\n",
       "      <td>0</td>\n",
       "      <td>0</td>\n",
       "      <td>...</td>\n",
       "      <td>175</td>\n",
       "      <td>172</td>\n",
       "      <td>172</td>\n",
       "      <td>182</td>\n",
       "      <td>199</td>\n",
       "      <td>222</td>\n",
       "      <td>42</td>\n",
       "      <td>0</td>\n",
       "      <td>1</td>\n",
       "      <td>0</td>\n",
       "    </tr>\n",
       "    <tr>\n",
       "      <th>9998</th>\n",
       "      <td>8</td>\n",
       "      <td>0</td>\n",
       "      <td>1</td>\n",
       "      <td>3</td>\n",
       "      <td>0</td>\n",
       "      <td>0</td>\n",
       "      <td>0</td>\n",
       "      <td>0</td>\n",
       "      <td>0</td>\n",
       "      <td>0</td>\n",
       "      <td>...</td>\n",
       "      <td>0</td>\n",
       "      <td>0</td>\n",
       "      <td>0</td>\n",
       "      <td>0</td>\n",
       "      <td>0</td>\n",
       "      <td>1</td>\n",
       "      <td>0</td>\n",
       "      <td>0</td>\n",
       "      <td>0</td>\n",
       "      <td>0</td>\n",
       "    </tr>\n",
       "    <tr>\n",
       "      <th>9999</th>\n",
       "      <td>1</td>\n",
       "      <td>0</td>\n",
       "      <td>0</td>\n",
       "      <td>0</td>\n",
       "      <td>0</td>\n",
       "      <td>0</td>\n",
       "      <td>0</td>\n",
       "      <td>0</td>\n",
       "      <td>140</td>\n",
       "      <td>119</td>\n",
       "      <td>...</td>\n",
       "      <td>111</td>\n",
       "      <td>95</td>\n",
       "      <td>75</td>\n",
       "      <td>44</td>\n",
       "      <td>1</td>\n",
       "      <td>0</td>\n",
       "      <td>0</td>\n",
       "      <td>0</td>\n",
       "      <td>0</td>\n",
       "      <td>0</td>\n",
       "    </tr>\n",
       "  </tbody>\n",
       "</table>\n",
       "<p>10000 rows × 785 columns</p>\n",
       "</div>"
      ],
      "text/plain": [
       "      label  pixel1  pixel2  pixel3  pixel4  pixel5  pixel6  pixel7  pixel8  \\\n",
       "0         0       0       0       0       0       0       0       0       9   \n",
       "1         1       0       0       0       0       0       0       0       0   \n",
       "2         2       0       0       0       0       0       0      14      53   \n",
       "3         2       0       0       0       0       0       0       0       0   \n",
       "4         3       0       0       0       0       0       0       0       0   \n",
       "...     ...     ...     ...     ...     ...     ...     ...     ...     ...   \n",
       "9995      0       0       0       0       0       0       0       0       0   \n",
       "9996      6       0       0       0       0       0       0       0       0   \n",
       "9997      8       0       0       0       0       0       0       0       0   \n",
       "9998      8       0       1       3       0       0       0       0       0   \n",
       "9999      1       0       0       0       0       0       0       0     140   \n",
       "\n",
       "      pixel9  ...  pixel775  pixel776  pixel777  pixel778  pixel779  pixel780  \\\n",
       "0          8  ...       103        87        56         0         0         0   \n",
       "1          0  ...        34         0         0         0         0         0   \n",
       "2         99  ...         0         0         0         0        63        53   \n",
       "3          0  ...       137       126       140         0       133       224   \n",
       "4          0  ...         0         0         0         0         0         0   \n",
       "...      ...  ...       ...       ...       ...       ...       ...       ...   \n",
       "9995       0  ...        32        23        14        20         0         0   \n",
       "9996       0  ...         0         0         0         2        52        23   \n",
       "9997       0  ...       175       172       172       182       199       222   \n",
       "9998       0  ...         0         0         0         0         0         1   \n",
       "9999     119  ...       111        95        75        44         1         0   \n",
       "\n",
       "      pixel781  pixel782  pixel783  pixel784  \n",
       "0            0         0         0         0  \n",
       "1            0         0         0         0  \n",
       "2           31         0         0         0  \n",
       "3          222        56         0         0  \n",
       "4            0         0         0         0  \n",
       "...        ...       ...       ...       ...  \n",
       "9995         1         0         0         0  \n",
       "9996        28         0         0         0  \n",
       "9997        42         0         1         0  \n",
       "9998         0         0         0         0  \n",
       "9999         0         0         0         0  \n",
       "\n",
       "[10000 rows x 785 columns]"
      ]
     },
     "execution_count": 67,
     "metadata": {},
     "output_type": "execute_result"
    }
   ],
   "source": [
    "df2"
   ]
  },
  {
   "cell_type": "code",
   "execution_count": 68,
   "id": "95f520e7",
   "metadata": {},
   "outputs": [],
   "source": [
    "x_train = df1.drop(\"label\", axis=1).values\n",
    "y_train = df1[\"label\"].values"
   ]
  },
  {
   "cell_type": "code",
   "execution_count": 78,
   "id": "42fa102a",
   "metadata": {},
   "outputs": [
    {
     "name": "stdout",
     "output_type": "stream",
     "text": [
      "x_test shape:  (1000, 784)\n",
      "y_test shape:  (1000,)\n",
      "(1000, 784)\n"
     ]
    }
   ],
   "source": [
    "print(\"x_test shape: \",x_test.shape)\n",
    "print(\"y_test shape: \",y_test.shape)\n",
    "print(x_test.shape)\n"
   ]
  },
  {
   "cell_type": "code",
   "execution_count": 79,
   "id": "9f2d7580",
   "metadata": {},
   "outputs": [],
   "source": [
    "x_train = x_train.reshape(60000, 28, 28)\n",
    "x_test = x_test.reshape(1000, 28, 28)"
   ]
  },
  {
   "cell_type": "code",
   "execution_count": 80,
   "id": "bc53084a",
   "metadata": {},
   "outputs": [
    {
     "name": "stdout",
     "output_type": "stream",
     "text": [
      "[[  0   0   0   0   0   0   0   0   0   0   0   0   0   0   0   0   0   0\n",
      "    0   0   0   0   0   0   0   0   0   0]\n",
      " [  0   0   0   0   0   0   0   0   0   0   0   0   0   0   0   0   0   0\n",
      "    0   0   0   0   0   0   0   0   0   0]\n",
      " [  0   0   0   0   0   0   0   0   0   0   0   0   0   0   0   0   0   0\n",
      "    0   0   0   0   0   0   0   0   0   0]\n",
      " [  0   0   0   0   4   0   0   0   0   0  62  61  21  29  23  51 136  61\n",
      "    0   0   0   0   0   0   0   0   0   0]\n",
      " [  0   0   0   0   0   0   0  88 201 228 225 255 115  62 137 255 235 222\n",
      "  255 135   0   0   0   0   0   0   0   0]\n",
      " [  0   0   0   0   0  47 252 234 238 224 215 215 229 108 180 207 214 224\n",
      "  231 249 254  45   0   0   0   0   0   0]\n",
      " [  0   0   1   0   0 214 222 210 213 224 225 217 220 254 233 219 221 217\n",
      "  223 221 240 254   0   0   1   0   0   0]\n",
      " [  1   0   0   0 128 237 207 224 224 207 216 214 210 208 211 221 208 219\n",
      "  213 226 211 237 150   0   0   0   0   0]\n",
      " [  0   2   0   0 237 222 215 207 210 212 213 206 214 213 214 213 210 215\n",
      "  214 206 199 218 255  13   0   2   0   0]\n",
      " [  0   4   0  85 228 210 218 200 211 208 203 215 210 209 209 210 213 211\n",
      "  210 217 206 213 231 175   0   0   0   0]\n",
      " [  0   0   0 217 224 215 206 205 204 217 230 222 215 224 233 228 232 228\n",
      "  224 207 212 215 213 229  31   0   4   0]\n",
      " [  1   0  21 225 212 212 203 211 225 193 139 136 195 147 156 139 128 162\n",
      "  197 223 207 220 213 232 177   0   0   0]\n",
      " [  0   0 123 226 207 211 209 205 228 158  90 103 186 138 100 121 147 158\n",
      "  183 226 208 214 209 216 255  13   0   1]\n",
      " [  0   0 226 219 202 208 206 205 216 184 156 150 193 170 164 168 188 186\n",
      "  200 219 216 213 213 211 233 148   0   0]\n",
      " [  0  45 227 204 214 211 218 222 221 230 229 221 213 224 233 226 220 219\n",
      "  221 224 223 217 210 218 213 254   0   0]\n",
      " [  0 157 226 203 207 211 209 215 205 198 207 208 201 201 197 203 205 210\n",
      "  207 213 214 214 214 213 208 234 107   0]\n",
      " [  0 235 213 204 211 210 209 213 202 197 204 215 217 213 212 210 206 212\n",
      "  203 211 218 215 214 208 209 222 230   0]\n",
      " [ 52 255 207 200 208 213 210 210 208 207 202 201 209 216 216 216 216 214\n",
      "  212 205 215 201 228 208 214 212 218  25]\n",
      " [118 217 201 206 208 213 208 205 206 210 211 202 199 207 208 209 210 207\n",
      "  210 210 245 139 119 255 202 203 236 114]\n",
      " [171 238 212 203 220 216 217 209 207 205 210 211 206 204 206 209 211 215\n",
      "  210 206 221 242   0 224 234 230 181  26]\n",
      " [ 39 145 201 255 157 115 250 200 207 206 207 213 216 206 205 206 207 206\n",
      "  215 207 221 238   0   0 188  85   0   0]\n",
      " [  0   0   0  31   0 129 253 190 207 208 208 208 209 211 211 209 209 209\n",
      "  212 201 226 165   0   0   0   0   0   0]\n",
      " [  2   0   0   0   0  89 254 199 199 192 196 198 199 201 202 203 204 203\n",
      "  203 200 222 155   0   3   3   3   2   0]\n",
      " [  0   0   1   5   0   0 255 218 226 232 228 224 222 220 219 219 217 221\n",
      "  220 212 236  95   0   2   0   0   0   0]\n",
      " [  0   0   0   0   0   0 155 194 168 170 171 173 173 179 177 175 172 171\n",
      "  167 161 180   0   0   1   0   1   0   0]\n",
      " [  0   0   0   0   0   0   0   0   0   0   0   0   0   0   0   0   0   0\n",
      "    0   0   0   0   0   0   0   0   0   0]\n",
      " [  0   0   0   0   0   0   0   0   0   0   0   0   0   0   0   0   0   0\n",
      "    0   0   0   0   0   0   0   0   0   0]\n",
      " [  0   0   0   0   0   0   0   0   0   0   0   0   0   0   0   0   0   0\n",
      "    0   0   0   0   0   0   0   0   0   0]]\n"
     ]
    }
   ],
   "source": [
    "print(x_train[0])"
   ]
  },
  {
   "cell_type": "code",
   "execution_count": 81,
   "id": "0735ad20",
   "metadata": {},
   "outputs": [
    {
     "data": {
      "text/plain": [
       "2"
      ]
     },
     "execution_count": 81,
     "metadata": {},
     "output_type": "execute_result"
    }
   ],
   "source": [
    "y_train[0]"
   ]
  },
  {
   "cell_type": "code",
   "execution_count": 82,
   "id": "59c7fefc",
   "metadata": {},
   "outputs": [
    {
     "data": {
      "text/plain": [
       "<matplotlib.image.AxesImage at 0x2766e1ac050>"
      ]
     },
     "execution_count": 82,
     "metadata": {},
     "output_type": "execute_result"
    },
    {
     "data": {
      "image/png": "[encoded data removed]",
      "text/plain": [
       "<Figure size 640x480 with 1 Axes>"
      ]
     },
     "metadata": {},
     "output_type": "display_data"
    }
   ],
   "source": [
    "plt.imshow(x_train[0])"
   ]
  },
  {
   "cell_type": "code",
   "execution_count": 83,
   "id": "9ad84874",
   "metadata": {},
   "outputs": [
    {
     "data": {
      "text/plain": [
       "array([[  0,   0,   0,   0,   0,   0,   0,   0,   0,   0,   0,   0,   0,\n",
       "          0,   0,   0,   0,   0,   0,   0,   0,   0,   0,   0,   0,   0,\n",
       "          0,   0],\n",
       "       [  0,   0,   0,   0,   0,   0,   0,   0,   0,   0,   0,   0,   0,\n",
       "          0,   0,   0,   0,   0,   0,   0,   0,   0,   0,   0,   0,   0,\n",
       "          0,   0],\n",
       "       [  0,   0,   0,   0,   0,   0,   0,   0,   0,   0,   0,   0,   0,\n",
       "          0,   0,   0,   0,   0,   0,   0,   0,   0,   0,   0,   0,   0,\n",
       "          0,   0],\n",
       "       [  0,   0,  36,  13,  16,   6,   0,   0,   0,   0,   0,   0,   0,\n",
       "          0,   0,   0,   0,   0,   0,   0,   0,   4,   9,  23,  67,   0,\n",
       "          0,  20],\n",
       "       [ 27,  77, 142, 142, 162, 163, 148, 128, 106,  97,  94,  74,  88,\n",
       "         90,  92,  65,  83,  98, 115, 123, 124, 149, 160, 181, 185, 131,\n",
       "          0,  92],\n",
       "       [167, 202, 110, 106, 110, 123, 131, 131, 131, 131, 133, 123, 148,\n",
       "        138, 155, 135, 131, 128, 146, 115,  98, 112, 106, 138, 113, 238,\n",
       "         60,  40],\n",
       "       [ 45, 117, 133,  72,  92,  87,  77,  95,  94,  81,  98,  77, 127,\n",
       "         69, 124,  99,  97,  91,  77,  65,  83,  94,  91,  74,  80, 213,\n",
       "        241,  63],\n",
       "       [182,  80, 189,  78,  92,  92,  78,  77,  84,  85,  94,  77, 109,\n",
       "         69,  97,  91,  91,  83,  80,  80,  92,  94, 117, 138, 218,  27,\n",
       "        194,   0],\n",
       "       [141,   0, 205, 113, 112, 112,  98,  78,  88,  91,  91,  63,  94,\n",
       "        112, 121,  73,  98, 105,  99,  84, 101, 121, 116, 145, 181,   0,\n",
       "         76,   2],\n",
       "       [159,   0, 173, 117, 117, 109,  94,  80, 101,  80, 110,  95, 119,\n",
       "        162, 146,  94,  91,  85,  99,  91,  98, 106, 123, 189,  99,   0,\n",
       "         91,   0],\n",
       "       [164,   0, 144, 103,  76, 109,  98, 106, 103,  78,  97, 103, 110,\n",
       "        152, 163, 102, 108,  98, 106, 109, 117, 133, 133, 170,  30, 135,\n",
       "         63,  22],\n",
       "       [113,  23,  45, 223, 133,  97, 101, 119, 108, 109,  92, 108,  88,\n",
       "        166, 156, 112, 112, 112, 133, 113, 112, 126, 145, 157, 188, 103,\n",
       "          0,  40],\n",
       "       [ 40,  83,   0, 210, 163, 162,  99, 105, 121, 113, 109, 109,  90,\n",
       "        199, 115,  94, 128, 108, 109, 117, 116, 105, 131, 159, 141,   0,\n",
       "          0,  74],\n",
       "       [  8, 169,   0, 141, 101, 112,  95, 103,  99, 102,  98, 106, 142,\n",
       "        200, 105,  78,  90, 110, 113, 101, 133, 103, 145, 169,   0,   0,\n",
       "          0,  95],\n",
       "       [  0, 159,  15,  48, 142, 117, 126,  95, 116, 130,  97, 106, 152,\n",
       "        157, 152,  81, 115, 126, 121, 117, 120,  88, 164, 139,   0,   4,\n",
       "          0,  99],\n",
       "       [  2,  95, 124,   0, 200, 103, 116, 127, 109, 112, 128,  94, 157,\n",
       "        138, 151, 101, 117, 127, 116, 121, 137, 134, 163,  67,   0,   1,\n",
       "          0,  62],\n",
       "       [ 94,   0, 205,   6, 198, 106, 120, 128, 103, 105, 119, 101, 144,\n",
       "        164, 133, 102,  99, 124, 116, 121, 133, 131, 160,  34,   0,   1,\n",
       "          0,   4],\n",
       "       [176,   0, 210,   0, 162, 138, 117,  99, 109, 126, 121, 108, 121,\n",
       "        121, 101, 116, 115, 126, 133, 128, 123, 126, 199,  22,   0,   4,\n",
       "          0,   0],\n",
       "       [173,  24, 127,  27, 131, 142, 108, 120, 115, 116, 113, 113, 124,\n",
       "         92, 119, 109, 110, 117, 105, 112, 133, 117, 182,   0,   0,   1,\n",
       "          0,   0],\n",
       "       [ 67, 162, 151,  88, 126, 194, 108, 134, 113,  97, 105, 123, 120,\n",
       "        110, 110, 126, 119, 123, 115, 110, 115, 144, 185,   0,   0,   0,\n",
       "          0,   0],\n",
       "       [  0, 131, 164, 185, 203, 162, 170, 162, 148, 149, 148, 159, 152,\n",
       "        156, 155, 149, 152, 160, 167, 171, 163, 170, 176,   0,   0,   1,\n",
       "          0,   1],\n",
       "       [  0,   0, 195, 234, 221, 188, 182, 159, 148, 163, 152, 156, 166,\n",
       "        159, 156, 142, 142, 141, 130, 144, 157, 148, 133,   0,   0,   0,\n",
       "          0,   0],\n",
       "       [  0,   0, 199, 210, 189, 160, 167, 174, 141, 144, 135, 134, 135,\n",
       "        130, 124, 109, 109, 113, 106, 115, 133, 137, 134,   0,   0,   0,\n",
       "          0,   6],\n",
       "       [  0,  23, 138,  95,  91, 130, 157, 255, 235, 209, 184, 178, 180,\n",
       "        185, 196, 195, 199, 213, 224, 223, 170, 177, 153,   0,   0,   1,\n",
       "          0,   2],\n",
       "       [  0,   2, 152, 128, 115, 135, 144,  30,  15,  31,  30,  36,  42,\n",
       "         44,  47,  48,  42,  38,  38,  36,  30,  27,  11,   0,   2,   0,\n",
       "          0,   0],\n",
       "       [  0,   0,   0,   0,   0,   0,   0,   0,   0,   0,   0,   0,   0,\n",
       "          0,   0,   0,   0,   0,   0,   0,   0,   0,   0,   0,   0,   0,\n",
       "          0,   0],\n",
       "       [  0,   0,   0,   0,   0,   0,   0,   0,   0,   0,   0,   0,   0,\n",
       "          0,   0,   0,   0,   0,   0,   0,   0,   0,   0,   0,   0,   0,\n",
       "          0,   0],\n",
       "       [  0,   0,   0,   0,   0,   0,   0,   0,   0,   0,   0,   0,   0,\n",
       "          0,   0,   0,   0,   0,   0,   0,   0,   0,   0,   0,   0,   0,\n",
       "          0,   8]], dtype=int64)"
      ]
     },
     "execution_count": 83,
     "metadata": {},
     "output_type": "execute_result"
    }
   ],
   "source": [
    "x_test[10]"
   ]
  },
  {
   "cell_type": "code",
   "execution_count": 85,
   "id": "6efb9d97",
   "metadata": {},
   "outputs": [
    {
     "data": {
      "text/plain": [
       "0"
      ]
     },
     "execution_count": 85,
     "metadata": {},
     "output_type": "execute_result"
    }
   ],
   "source": [
    "y_test[10]"
   ]
  },
  {
   "cell_type": "code",
   "execution_count": 86,
   "id": "e5e9a12b",
   "metadata": {},
   "outputs": [
    {
     "data": {
      "text/plain": [
       "<matplotlib.image.AxesImage at 0x27671796b10>"
      ]
     },
     "execution_count": 86,
     "metadata": {},
     "output_type": "execute_result"
    },
    {
     "data": {
      "image/png": "[encoded data removed]",
      "text/plain": [
       "<Figure size 640x480 with 1 Axes>"
      ]
     },
     "metadata": {},
     "output_type": "display_data"
    }
   ],
   "source": [
    "plt.imshow(x_test[10])"
   ]
  },
  {
   "cell_type": "code",
   "execution_count": 87,
   "id": "207b0fe9",
   "metadata": {},
   "outputs": [
    {
     "data": {
      "text/plain": [
       "array([[  0,   0,   0,   0,   0,   0,   0,   0,   0,   0,   0,   0,   0,\n",
       "          0,   0,   0,   0,   0,   0,   0,   0,   0,   0,   0,   0,   0,\n",
       "          0,   0],\n",
       "       [  0,   0,   0,   0,   0,   0,   0,   0,   0,   0,   0,   0,   0,\n",
       "          0,   0,   0,   0,   0,   0,   0,   0,   0,   0,   0,   0,   0,\n",
       "          0,   0],\n",
       "       [  0,   0,   0,   0,   0,   0,   0,   0,   0,   0,   0,   0,   0,\n",
       "          0,   0,   0,   0,   0,   0,   0,   0,   0,   0,   0,   0,   0,\n",
       "          0,   0],\n",
       "       [  0,   0,  36,  13,  16,   6,   0,   0,   0,   0,   0,   0,   0,\n",
       "          0,   0,   0,   0,   0,   0,   0,   0,   4,   9,  23,  67,   0,\n",
       "          0,  20],\n",
       "       [ 27,  77, 142, 142, 162, 163, 148, 128, 106,  97,  94,  74,  88,\n",
       "         90,  92,  65,  83,  98, 115, 123, 124, 149, 160, 181, 185, 131,\n",
       "          0,  92],\n",
       "       [167, 202, 110, 106, 110, 123, 131, 131, 131, 131, 133, 123, 148,\n",
       "        138, 155, 135, 131, 128, 146, 115,  98, 112, 106, 138, 113, 238,\n",
       "         60,  40],\n",
       "       [ 45, 117, 133,  72,  92,  87,  77,  95,  94,  81,  98,  77, 127,\n",
       "         69, 124,  99,  97,  91,  77,  65,  83,  94,  91,  74,  80, 213,\n",
       "        241,  63],\n",
       "       [182,  80, 189,  78,  92,  92,  78,  77,  84,  85,  94,  77, 109,\n",
       "         69,  97,  91,  91,  83,  80,  80,  92,  94, 117, 138, 218,  27,\n",
       "        194,   0],\n",
       "       [141,   0, 205, 113, 112, 112,  98,  78,  88,  91,  91,  63,  94,\n",
       "        112, 121,  73,  98, 105,  99,  84, 101, 121, 116, 145, 181,   0,\n",
       "         76,   2],\n",
       "       [159,   0, 173, 117, 117, 109,  94,  80, 101,  80, 110,  95, 119,\n",
       "        162, 146,  94,  91,  85,  99,  91,  98, 106, 123, 189,  99,   0,\n",
       "         91,   0],\n",
       "       [164,   0, 144, 103,  76, 109,  98, 106, 103,  78,  97, 103, 110,\n",
       "        152, 163, 102, 108,  98, 106, 109, 117, 133, 133, 170,  30, 135,\n",
       "         63,  22],\n",
       "       [113,  23,  45, 223, 133,  97, 101, 119, 108, 109,  92, 108,  88,\n",
       "        166, 156, 112, 112, 112, 133, 113, 112, 126, 145, 157, 188, 103,\n",
       "          0,  40],\n",
       "       [ 40,  83,   0, 210, 163, 162,  99, 105, 121, 113, 109, 109,  90,\n",
       "        199, 115,  94, 128, 108, 109, 117, 116, 105, 131, 159, 141,   0,\n",
       "          0,  74],\n",
       "       [  8, 169,   0, 141, 101, 112,  95, 103,  99, 102,  98, 106, 142,\n",
       "        200, 105,  78,  90, 110, 113, 101, 133, 103, 145, 169,   0,   0,\n",
       "          0,  95],\n",
       "       [  0, 159,  15,  48, 142, 117, 126,  95, 116, 130,  97, 106, 152,\n",
       "        157, 152,  81, 115, 126, 121, 117, 120,  88, 164, 139,   0,   4,\n",
       "          0,  99],\n",
       "       [  2,  95, 124,   0, 200, 103, 116, 127, 109, 112, 128,  94, 157,\n",
       "        138, 151, 101, 117, 127, 116, 121, 137, 134, 163,  67,   0,   1,\n",
       "          0,  62],\n",
       "       [ 94,   0, 205,   6, 198, 106, 120, 128, 103, 105, 119, 101, 144,\n",
       "        164, 133, 102,  99, 124, 116, 121, 133, 131, 160,  34,   0,   1,\n",
       "          0,   4],\n",
       "       [176,   0, 210,   0, 162, 138, 117,  99, 109, 126, 121, 108, 121,\n",
       "        121, 101, 116, 115, 126, 133, 128, 123, 126, 199,  22,   0,   4,\n",
       "          0,   0],\n",
       "       [173,  24, 127,  27, 131, 142, 108, 120, 115, 116, 113, 113, 124,\n",
       "         92, 119, 109, 110, 117, 105, 112, 133, 117, 182,   0,   0,   1,\n",
       "          0,   0],\n",
       "       [ 67, 162, 151,  88, 126, 194, 108, 134, 113,  97, 105, 123, 120,\n",
       "        110, 110, 126, 119, 123, 115, 110, 115, 144, 185,   0,   0,   0,\n",
       "          0,   0],\n",
       "       [  0, 131, 164, 185, 203, 162, 170, 162, 148, 149, 148, 159, 152,\n",
       "        156, 155, 149, 152, 160, 167, 171, 163, 170, 176,   0,   0,   1,\n",
       "          0,   1],\n",
       "       [  0,   0, 195, 234, 221, 188, 182, 159, 148, 163, 152, 156, 166,\n",
       "        159, 156, 142, 142, 141, 130, 144, 157, 148, 133,   0,   0,   0,\n",
       "          0,   0],\n",
       "       [  0,   0, 199, 210, 189, 160, 167, 174, 141, 144, 135, 134, 135,\n",
       "        130, 124, 109, 109, 113, 106, 115, 133, 137, 134,   0,   0,   0,\n",
       "          0,   6],\n",
       "       [  0,  23, 138,  95,  91, 130, 157, 255, 235, 209, 184, 178, 180,\n",
       "        185, 196, 195, 199, 213, 224, 223, 170, 177, 153,   0,   0,   1,\n",
       "          0,   2],\n",
       "       [  0,   2, 152, 128, 115, 135, 144,  30,  15,  31,  30,  36,  42,\n",
       "         44,  47,  48,  42,  38,  38,  36,  30,  27,  11,   0,   2,   0,\n",
       "          0,   0],\n",
       "       [  0,   0,   0,   0,   0,   0,   0,   0,   0,   0,   0,   0,   0,\n",
       "          0,   0,   0,   0,   0,   0,   0,   0,   0,   0,   0,   0,   0,\n",
       "          0,   0],\n",
       "       [  0,   0,   0,   0,   0,   0,   0,   0,   0,   0,   0,   0,   0,\n",
       "          0,   0,   0,   0,   0,   0,   0,   0,   0,   0,   0,   0,   0,\n",
       "          0,   0],\n",
       "       [  0,   0,   0,   0,   0,   0,   0,   0,   0,   0,   0,   0,   0,\n",
       "          0,   0,   0,   0,   0,   0,   0,   0,   0,   0,   0,   0,   0,\n",
       "          0,   8]], dtype=int64)"
      ]
     },
     "execution_count": 87,
     "metadata": {},
     "output_type": "execute_result"
    }
   ],
   "source": [
    "x_test[10]"
   ]
  },
  {
   "cell_type": "code",
   "execution_count": 88,
   "id": "6f4199c9",
   "metadata": {},
   "outputs": [
    {
     "data": {
      "text/plain": [
       "0"
      ]
     },
     "execution_count": 88,
     "metadata": {},
     "output_type": "execute_result"
    }
   ],
   "source": [
    "\n",
    "y_test[10]"
   ]
  },
  {
   "cell_type": "code",
   "execution_count": 89,
   "id": "04d554dd",
   "metadata": {},
   "outputs": [
    {
     "data": {
      "text/plain": [
       "<matplotlib.image.AxesImage at 0x2767fc27dd0>"
      ]
     },
     "execution_count": 89,
     "metadata": {},
     "output_type": "execute_result"
    },
    {
     "data": {
      "image/png": "[encoded data removed]",
      "text/plain": [
       "<Figure size 640x480 with 1 Axes>"
      ]
     },
     "metadata": {},
     "output_type": "display_data"
    }
   ],
   "source": [
    "plt.imshow(x_test[10])"
   ]
  },
  {
   "cell_type": "code",
   "execution_count": 90,
   "id": "d56716f2",
   "metadata": {},
   "outputs": [],
   "source": [
    "x_train = x_train/255\n",
    "x_test = x_test/255"
   ]
  },
  {
   "cell_type": "code",
   "execution_count": 92,
   "id": "68181147",
   "metadata": {},
   "outputs": [],
   "source": [
    "x_train = x_train.reshape(60000, 28, 28, 1)\n",
    "x_test = x_test.reshape(1000, 28, 28, 1)"
   ]
  },
  {
   "cell_type": "code",
   "execution_count": 93,
   "id": "7233cd17",
   "metadata": {},
   "outputs": [
    {
     "name": "stdout",
     "output_type": "stream",
     "text": [
      "Train Shape : (60000, 28, 28, 1)\n",
      "Test Shape : (1000, 28, 28, 1)\n",
      "y_train shape : (60000,)\n",
      "y_test shape : (1000,)\n"
     ]
    }
   ],
   "source": [
    "print(\"Train Shape :\",x_train.shape)\n",
    "print(\"Test Shape :\",x_test.shape)\n",
    "print(\"y_train shape :\",y_train.shape)\n",
    "print(\"y_test shape :\",y_test.shape)"
   ]
  },
  {
   "cell_type": "code",
   "execution_count": 94,
   "id": "f8bfe3b1",
   "metadata": {},
   "outputs": [
    {
     "name": "stdout",
     "output_type": "stream",
     "text": [
      "WARNING:tensorflow:From C:\\Users\\Jayesh\\anaconda3\\Lib\\site-packages\\keras\\src\\losses.py:2976: The name tf.losses.sparse_softmax_cross_entropy is deprecated. Please use tf.compat.v1.losses.sparse_softmax_cross_entropy instead.\n",
      "\n"
     ]
    }
   ],
   "source": [
    "from tensorflow.keras.models import Sequential\n",
    "from tensorflow.keras.layers import Dense, Conv2D, MaxPooling2D, Flatten"
   ]
  },
  {
   "cell_type": "code",
   "execution_count": 96,
   "id": "9ffe469b",
   "metadata": {},
   "outputs": [
    {
     "name": "stdout",
     "output_type": "stream",
     "text": [
      "WARNING:tensorflow:From C:\\Users\\Jayesh\\anaconda3\\Lib\\site-packages\\keras\\src\\backend.py:873: The name tf.get_default_graph is deprecated. Please use tf.compat.v1.get_default_graph instead.\n",
      "\n",
      "WARNING:tensorflow:From C:\\Users\\Jayesh\\anaconda3\\Lib\\site-packages\\keras\\src\\layers\\pooling\\max_pooling2d.py:161: The name tf.nn.max_pool is deprecated. Please use tf.nn.max_pool2d instead.\n",
      "\n",
      "WARNING:tensorflow:From C:\\Users\\Jayesh\\anaconda3\\Lib\\site-packages\\keras\\src\\optimizers\\__init__.py:309: The name tf.train.Optimizer is deprecated. Please use tf.compat.v1.train.Optimizer instead.\n",
      "\n",
      "Model: \"sequential\"\n",
      "_________________________________________________________________\n",
      " Layer (type)                Output Shape              Param #   \n",
      "=================================================================\n",
      " conv2d (Conv2D)             (None, 26, 26, 64)        640       \n",
      "                                                                 \n",
      " max_pooling2d (MaxPooling2  (None, 13, 13, 64)        0         \n",
      " D)                                                              \n",
      "                                                                 \n",
      " conv2d_1 (Conv2D)           (None, 11, 11, 64)        36928     \n",
      "                                                                 \n",
      " max_pooling2d_1 (MaxPoolin  (None, 5, 5, 64)          0         \n",
      " g2D)                                                            \n",
      "                                                                 \n",
      " flatten (Flatten)           (None, 1600)              0         \n",
      "                                                                 \n",
      " dense (Dense)               (None, 128)               204928    \n",
      "                                                                 \n",
      " dense_1 (Dense)             (None, 10)                1290      \n",
      "                                                                 \n",
      "=================================================================\n",
      "Total params: 243786 (952.29 KB)\n",
      "Trainable params: 243786 (952.29 KB)\n",
      "Non-trainable params: 0 (0.00 Byte)\n",
      "_________________________________________________________________\n"
     ]
    }
   ],
   "source": [
    "model=Sequential()\n",
    "\n",
    "model.add(Conv2D(64, (3,3), activation='relu', input_shape=(28,28,1)))\n",
    "model.add(MaxPooling2D((2,2)))\n",
    "\n",
    "model.add(Conv2D(64, (3,3), activation='relu'))\n",
    "model.add(MaxPooling2D((2,2)))\n",
    "\n",
    "model.add(Flatten())\n",
    "\n",
    "model.add(Dense(128,activation='relu'))\n",
    "model.add(Dense(10,activation='softmax'))\n",
    "\n",
    "model.compile(optimizer='adam', loss='sparse_categorical_crossentropy',metrics=['accuracy'])\n",
    "\n",
    "model.summary()"
   ]
  },
  {
   "cell_type": "code",
   "execution_count": 97,
   "id": "68d4ede5",
   "metadata": {},
   "outputs": [
    {
     "name": "stdout",
     "output_type": "stream",
     "text": [
      "Epoch 1/3\n",
      "WARNING:tensorflow:From C:\\Users\\Jayesh\\anaconda3\\Lib\\site-packages\\keras\\src\\utils\\tf_utils.py:492: The name tf.ragged.RaggedTensorValue is deprecated. Please use tf.compat.v1.ragged.RaggedTensorValue instead.\n",
      "\n",
      "WARNING:tensorflow:From C:\\Users\\Jayesh\\anaconda3\\Lib\\site-packages\\keras\\src\\engine\\base_layer_utils.py:384: The name tf.executing_eagerly_outside_functions is deprecated. Please use tf.compat.v1.executing_eagerly_outside_functions instead.\n",
      "\n",
      "1875/1875 [==============================] - 25s 13ms/step - loss: 0.4387 - accuracy: 0.8408 - val_loss: 6.8341 - val_accuracy: 0.1080\n",
      "Epoch 2/3\n",
      "1875/1875 [==============================] - 25s 13ms/step - loss: 0.3033 - accuracy: 0.8893 - val_loss: 7.1174 - val_accuracy: 0.1030\n",
      "Epoch 3/3\n",
      "1875/1875 [==============================] - 27s 14ms/step - loss: 0.2546 - accuracy: 0.9059 - val_loss: 9.0300 - val_accuracy: 0.0970\n"
     ]
    },
    {
     "data": {
      "text/plain": [
       "<keras.src.callbacks.History at 0x2768cceaa10>"
      ]
     },
     "execution_count": 97,
     "metadata": {},
     "output_type": "execute_result"
    }
   ],
   "source": [
    "model.fit(x_train, y_train, epochs=3, verbose=1, validation_data=(x_test,y_test))"
   ]
  },
  {
   "cell_type": "code",
   "execution_count": 98,
   "id": "1f0c3c66",
   "metadata": {},
   "outputs": [
    {
     "name": "stdout",
     "output_type": "stream",
     "text": [
      "32/32 [==============================] - 0s 4ms/step\n"
     ]
    }
   ],
   "source": [
    "predictions = model.predict(x_test)"
   ]
  },
  {
   "cell_type": "code",
   "execution_count": 99,
   "id": "419fa4d2",
   "metadata": {},
   "outputs": [
    {
     "name": "stdout",
     "output_type": "stream",
     "text": [
      "[4.1019171e-06 2.8365861e-07 4.8814911e-07 2.0270579e-07 4.3297081e-08\n",
      " 2.8008117e-08 3.8239559e-05 5.4044418e-09 9.9995649e-01 2.0757102e-07]\n",
      "Actual label : 0\n",
      "Predicted label : 8\n",
      "Class : Bag\n"
     ]
    }
   ],
   "source": [
    "import numpy as np\n",
    "\n",
    "index=10\n",
    "\n",
    "print(predictions[index])\n",
    "\n",
    "final_value=np.argmax(predictions[index])\n",
    "\n",
    "print(\"Actual label :\",y_test[index])\n",
    "print(\"Predicted label :\",final_value)\n",
    "print(\"Class :\",class_names[final_value])"
   ]
  },
  {
   "cell_type": "code",
   "execution_count": 100,
   "id": "9d3ff9de",
   "metadata": {},
   "outputs": [
    {
     "data": {
      "text/plain": [
       "<matplotlib.image.AxesImage at 0x2768cf23c50>"
      ]
     },
     "execution_count": 100,
     "metadata": {},
     "output_type": "execute_result"
    },
    {
     "data": {
      "image/png": "[encoded data removed]",
      "text/plain": [
       "<Figure size 640x480 with 1 Axes>"
      ]
     },
     "metadata": {},
     "output_type": "display_data"
    }
   ],
   "source": [
    "plt.imshow(x_test[10])"
   ]
  },
  {
   "cell_type": "code",
   "execution_count": 101,
   "id": "cc339975",
   "metadata": {},
   "outputs": [
    {
     "name": "stdout",
     "output_type": "stream",
     "text": [
      "32/32 [==============================] - 0s 5ms/step - loss: 9.0300 - accuracy: 0.0970\n",
      "Loss : 9.030030250549316\n",
      "Accuracy (Test Data) : 9.700000286102295\n"
     ]
    }
   ],
   "source": [
    "loss, accuracy = model.evaluate(x_test, y_test)\n",
    "\n",
    "print(\"Loss :\",loss)\n",
    "print(\"Accuracy (Test Data) :\",accuracy*100)\n"
   ]
  },
  {
   "cell_type": "code",
   "execution_count": null,
   "id": "1c3c32c1",
   "metadata": {},
   "outputs": [],
   "source": []
  }
 ],
 "metadata": {
  "kernelspec": {
   "display_name": "Python 3 (ipykernel)",
   "language": "python",
   "name": "python3"
  },
  "language_info": {
   "codemirror_mode": {
    "name": "ipython",
    "version": 3
   },
   "file_extension": ".py",
   "mimetype": "text/x-python",
   "name": "python",
   "nbconvert_exporter": "python",
   "pygments_lexer": "ipython3",
   "version": "3.11.5"
  }
 },
 "nbformat": 4,
 "nbformat_minor": 5
}
