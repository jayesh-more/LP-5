{
 "cells": [
  {
   "cell_type": "code",
   "execution_count": 1,
   "id": "d33d35cb",
   "metadata": {},
   "outputs": [],
   "source": [
    "import pandas as pd\n",
    "import numpy as np\n",
    "from sklearn.model_selection import train_test_split"
   ]
  },
  {
   "cell_type": "code",
   "execution_count": 2,
   "id": "d53885e1",
   "metadata": {},
   "outputs": [],
   "source": [
    "columns = [\"lettr\", \"x-box\", \"y-box\", \"width\", \"height\", \"onpix\", \"x-bar\",\"y-bar\", \"x2bar\", \"y2bar\", \"xybar\", \"x2ybr\", \"xy2br\", \"x-ege\", \"xegvy\",\"y-ege\", \"yegvx\"]"
   ]
  },
  {
   "cell_type": "code",
   "execution_count": 5,
   "id": "b0d9bd7e",
   "metadata": {},
   "outputs": [],
   "source": [
    "df = pd.read_csv(\"D:\\letter-recognition.data\", names=columns)"
   ]
  },
  {
   "cell_type": "code",
   "execution_count": 6,
   "id": "60bdd8b8",
   "metadata": {},
   "outputs": [
    {
     "data": {
      "text/html": [
       "<div>\n",
       "<style scoped>\n",
       "    .dataframe tbody tr th:only-of-type {\n",
       "        vertical-align: middle;\n",
       "    }\n",
       "\n",
       "    .dataframe tbody tr th {\n",
       "        vertical-align: top;\n",
       "    }\n",
       "\n",
       "    .dataframe thead th {\n",
       "        text-align: right;\n",
       "    }\n",
       "</style>\n",
       "<table border=\"1\" class=\"dataframe\">\n",
       "  <thead>\n",
       "    <tr style=\"text-align: right;\">\n",
       "      <th></th>\n",
       "      <th>lettr</th>\n",
       "      <th>x-box</th>\n",
       "      <th>y-box</th>\n",
       "      <th>width</th>\n",
       "      <th>height</th>\n",
       "      <th>onpix</th>\n",
       "      <th>x-bar</th>\n",
       "      <th>y-bar</th>\n",
       "      <th>x2bar</th>\n",
       "      <th>y2bar</th>\n",
       "      <th>xybar</th>\n",
       "      <th>x2ybr</th>\n",
       "      <th>xy2br</th>\n",
       "      <th>x-ege</th>\n",
       "      <th>xegvy</th>\n",
       "      <th>y-ege</th>\n",
       "      <th>yegvx</th>\n",
       "    </tr>\n",
       "  </thead>\n",
       "  <tbody>\n",
       "    <tr>\n",
       "      <th>0</th>\n",
       "      <td>T</td>\n",
       "      <td>2</td>\n",
       "      <td>8</td>\n",
       "      <td>3</td>\n",
       "      <td>5</td>\n",
       "      <td>1</td>\n",
       "      <td>8</td>\n",
       "      <td>13</td>\n",
       "      <td>0</td>\n",
       "      <td>6</td>\n",
       "      <td>6</td>\n",
       "      <td>10</td>\n",
       "      <td>8</td>\n",
       "      <td>0</td>\n",
       "      <td>8</td>\n",
       "      <td>0</td>\n",
       "      <td>8</td>\n",
       "    </tr>\n",
       "    <tr>\n",
       "      <th>1</th>\n",
       "      <td>I</td>\n",
       "      <td>5</td>\n",
       "      <td>12</td>\n",
       "      <td>3</td>\n",
       "      <td>7</td>\n",
       "      <td>2</td>\n",
       "      <td>10</td>\n",
       "      <td>5</td>\n",
       "      <td>5</td>\n",
       "      <td>4</td>\n",
       "      <td>13</td>\n",
       "      <td>3</td>\n",
       "      <td>9</td>\n",
       "      <td>2</td>\n",
       "      <td>8</td>\n",
       "      <td>4</td>\n",
       "      <td>10</td>\n",
       "    </tr>\n",
       "    <tr>\n",
       "      <th>2</th>\n",
       "      <td>D</td>\n",
       "      <td>4</td>\n",
       "      <td>11</td>\n",
       "      <td>6</td>\n",
       "      <td>8</td>\n",
       "      <td>6</td>\n",
       "      <td>10</td>\n",
       "      <td>6</td>\n",
       "      <td>2</td>\n",
       "      <td>6</td>\n",
       "      <td>10</td>\n",
       "      <td>3</td>\n",
       "      <td>7</td>\n",
       "      <td>3</td>\n",
       "      <td>7</td>\n",
       "      <td>3</td>\n",
       "      <td>9</td>\n",
       "    </tr>\n",
       "    <tr>\n",
       "      <th>3</th>\n",
       "      <td>N</td>\n",
       "      <td>7</td>\n",
       "      <td>11</td>\n",
       "      <td>6</td>\n",
       "      <td>6</td>\n",
       "      <td>3</td>\n",
       "      <td>5</td>\n",
       "      <td>9</td>\n",
       "      <td>4</td>\n",
       "      <td>6</td>\n",
       "      <td>4</td>\n",
       "      <td>4</td>\n",
       "      <td>10</td>\n",
       "      <td>6</td>\n",
       "      <td>10</td>\n",
       "      <td>2</td>\n",
       "      <td>8</td>\n",
       "    </tr>\n",
       "    <tr>\n",
       "      <th>4</th>\n",
       "      <td>G</td>\n",
       "      <td>2</td>\n",
       "      <td>1</td>\n",
       "      <td>3</td>\n",
       "      <td>1</td>\n",
       "      <td>1</td>\n",
       "      <td>8</td>\n",
       "      <td>6</td>\n",
       "      <td>6</td>\n",
       "      <td>6</td>\n",
       "      <td>6</td>\n",
       "      <td>5</td>\n",
       "      <td>9</td>\n",
       "      <td>1</td>\n",
       "      <td>7</td>\n",
       "      <td>5</td>\n",
       "      <td>10</td>\n",
       "    </tr>\n",
       "    <tr>\n",
       "      <th>...</th>\n",
       "      <td>...</td>\n",
       "      <td>...</td>\n",
       "      <td>...</td>\n",
       "      <td>...</td>\n",
       "      <td>...</td>\n",
       "      <td>...</td>\n",
       "      <td>...</td>\n",
       "      <td>...</td>\n",
       "      <td>...</td>\n",
       "      <td>...</td>\n",
       "      <td>...</td>\n",
       "      <td>...</td>\n",
       "      <td>...</td>\n",
       "      <td>...</td>\n",
       "      <td>...</td>\n",
       "      <td>...</td>\n",
       "      <td>...</td>\n",
       "    </tr>\n",
       "    <tr>\n",
       "      <th>19995</th>\n",
       "      <td>D</td>\n",
       "      <td>2</td>\n",
       "      <td>2</td>\n",
       "      <td>3</td>\n",
       "      <td>3</td>\n",
       "      <td>2</td>\n",
       "      <td>7</td>\n",
       "      <td>7</td>\n",
       "      <td>7</td>\n",
       "      <td>6</td>\n",
       "      <td>6</td>\n",
       "      <td>6</td>\n",
       "      <td>4</td>\n",
       "      <td>2</td>\n",
       "      <td>8</td>\n",
       "      <td>3</td>\n",
       "      <td>7</td>\n",
       "    </tr>\n",
       "    <tr>\n",
       "      <th>19996</th>\n",
       "      <td>C</td>\n",
       "      <td>7</td>\n",
       "      <td>10</td>\n",
       "      <td>8</td>\n",
       "      <td>8</td>\n",
       "      <td>4</td>\n",
       "      <td>4</td>\n",
       "      <td>8</td>\n",
       "      <td>6</td>\n",
       "      <td>9</td>\n",
       "      <td>12</td>\n",
       "      <td>9</td>\n",
       "      <td>13</td>\n",
       "      <td>2</td>\n",
       "      <td>9</td>\n",
       "      <td>3</td>\n",
       "      <td>7</td>\n",
       "    </tr>\n",
       "    <tr>\n",
       "      <th>19997</th>\n",
       "      <td>T</td>\n",
       "      <td>6</td>\n",
       "      <td>9</td>\n",
       "      <td>6</td>\n",
       "      <td>7</td>\n",
       "      <td>5</td>\n",
       "      <td>6</td>\n",
       "      <td>11</td>\n",
       "      <td>3</td>\n",
       "      <td>7</td>\n",
       "      <td>11</td>\n",
       "      <td>9</td>\n",
       "      <td>5</td>\n",
       "      <td>2</td>\n",
       "      <td>12</td>\n",
       "      <td>2</td>\n",
       "      <td>4</td>\n",
       "    </tr>\n",
       "    <tr>\n",
       "      <th>19998</th>\n",
       "      <td>S</td>\n",
       "      <td>2</td>\n",
       "      <td>3</td>\n",
       "      <td>4</td>\n",
       "      <td>2</td>\n",
       "      <td>1</td>\n",
       "      <td>8</td>\n",
       "      <td>7</td>\n",
       "      <td>2</td>\n",
       "      <td>6</td>\n",
       "      <td>10</td>\n",
       "      <td>6</td>\n",
       "      <td>8</td>\n",
       "      <td>1</td>\n",
       "      <td>9</td>\n",
       "      <td>5</td>\n",
       "      <td>8</td>\n",
       "    </tr>\n",
       "    <tr>\n",
       "      <th>19999</th>\n",
       "      <td>A</td>\n",
       "      <td>4</td>\n",
       "      <td>9</td>\n",
       "      <td>6</td>\n",
       "      <td>6</td>\n",
       "      <td>2</td>\n",
       "      <td>9</td>\n",
       "      <td>5</td>\n",
       "      <td>3</td>\n",
       "      <td>1</td>\n",
       "      <td>8</td>\n",
       "      <td>1</td>\n",
       "      <td>8</td>\n",
       "      <td>2</td>\n",
       "      <td>7</td>\n",
       "      <td>2</td>\n",
       "      <td>8</td>\n",
       "    </tr>\n",
       "  </tbody>\n",
       "</table>\n",
       "<p>20000 rows × 17 columns</p>\n",
       "</div>"
      ],
      "text/plain": [
       "      lettr  x-box  y-box  width  height  onpix  x-bar  y-bar  x2bar  y2bar  \\\n",
       "0         T      2      8      3       5      1      8     13      0      6   \n",
       "1         I      5     12      3       7      2     10      5      5      4   \n",
       "2         D      4     11      6       8      6     10      6      2      6   \n",
       "3         N      7     11      6       6      3      5      9      4      6   \n",
       "4         G      2      1      3       1      1      8      6      6      6   \n",
       "...     ...    ...    ...    ...     ...    ...    ...    ...    ...    ...   \n",
       "19995     D      2      2      3       3      2      7      7      7      6   \n",
       "19996     C      7     10      8       8      4      4      8      6      9   \n",
       "19997     T      6      9      6       7      5      6     11      3      7   \n",
       "19998     S      2      3      4       2      1      8      7      2      6   \n",
       "19999     A      4      9      6       6      2      9      5      3      1   \n",
       "\n",
       "       xybar  x2ybr  xy2br  x-ege  xegvy  y-ege  yegvx  \n",
       "0          6     10      8      0      8      0      8  \n",
       "1         13      3      9      2      8      4     10  \n",
       "2         10      3      7      3      7      3      9  \n",
       "3          4      4     10      6     10      2      8  \n",
       "4          6      5      9      1      7      5     10  \n",
       "...      ...    ...    ...    ...    ...    ...    ...  \n",
       "19995      6      6      4      2      8      3      7  \n",
       "19996     12      9     13      2      9      3      7  \n",
       "19997     11      9      5      2     12      2      4  \n",
       "19998     10      6      8      1      9      5      8  \n",
       "19999      8      1      8      2      7      2      8  \n",
       "\n",
       "[20000 rows x 17 columns]"
      ]
     },
     "execution_count": 6,
     "metadata": {},
     "output_type": "execute_result"
    }
   ],
   "source": [
    "df"
   ]
  },
  {
   "cell_type": "code",
   "execution_count": 7,
   "id": "227619ac",
   "metadata": {},
   "outputs": [],
   "source": [
    "x = df.drop(\"lettr\", axis=1).values\n",
    "y = df[\"lettr\"].values"
   ]
  },
  {
   "cell_type": "code",
   "execution_count": 8,
   "id": "4403cdce",
   "metadata": {},
   "outputs": [
    {
     "data": {
      "text/plain": [
       "(20000, 16)"
      ]
     },
     "execution_count": 8,
     "metadata": {},
     "output_type": "execute_result"
    }
   ],
   "source": [
    "x.shape"
   ]
  },
  {
   "cell_type": "code",
   "execution_count": 9,
   "id": "7301469b",
   "metadata": {},
   "outputs": [
    {
     "data": {
      "text/plain": [
       "(20000,)"
      ]
     },
     "execution_count": 9,
     "metadata": {},
     "output_type": "execute_result"
    }
   ],
   "source": [
    "y.shape"
   ]
  },
  {
   "cell_type": "code",
   "execution_count": 10,
   "id": "b96f5598",
   "metadata": {},
   "outputs": [
    {
     "data": {
      "text/plain": [
       "array(['A', 'B', 'C', 'D', 'E', 'F', 'G', 'H', 'I', 'J', 'K', 'L', 'M',\n",
       "       'N', 'O', 'P', 'Q', 'R', 'S', 'T', 'U', 'V', 'W', 'X', 'Y', 'Z'],\n",
       "      dtype=object)"
      ]
     },
     "execution_count": 10,
     "metadata": {},
     "output_type": "execute_result"
    }
   ],
   "source": [
    "np.unique(y)"
   ]
  },
  {
   "cell_type": "code",
   "execution_count": 11,
   "id": "4c12d436",
   "metadata": {},
   "outputs": [],
   "source": [
    "x_train, x_test, y_train, y_test = train_test_split(x, y, test_size=0.2)"
   ]
  },
  {
   "cell_type": "code",
   "execution_count": 12,
   "id": "7cd0e198",
   "metadata": {},
   "outputs": [
    {
     "name": "stdout",
     "output_type": "stream",
     "text": [
      "Train Shape : (16000, 16)\n",
      "Test Shape : (4000, 16)\n",
      "y_train shape : (16000,)\n",
      "y_test shape : (4000,)\n"
     ]
    }
   ],
   "source": [
    "def shape():\n",
    "    print(\"Train Shape :\",x_train.shape)\n",
    "    print(\"Test Shape :\",x_test.shape)\n",
    "    print(\"y_train shape :\",y_train.shape)\n",
    "    print(\"y_test shape :\",y_test.shape)\n",
    "\n",
    "shape()"
   ]
  },
  {
   "cell_type": "code",
   "execution_count": 13,
   "id": "92e3aab6",
   "metadata": {},
   "outputs": [
    {
     "data": {
      "text/plain": [
       "array([ 3,  7,  4,  5,  2,  3,  9,  5,  8, 11, 11, 11,  1,  8,  3,  7],\n",
       "      dtype=int64)"
      ]
     },
     "execution_count": 13,
     "metadata": {},
     "output_type": "execute_result"
    }
   ],
   "source": [
    " x_train[0]"
   ]
  },
  {
   "cell_type": "code",
   "execution_count": 14,
   "id": "d83c959b",
   "metadata": {},
   "outputs": [
    {
     "data": {
      "text/plain": [
       "'C'"
      ]
     },
     "execution_count": 14,
     "metadata": {},
     "output_type": "execute_result"
    }
   ],
   "source": [
    "y_train[0]"
   ]
  },
  {
   "cell_type": "code",
   "execution_count": 15,
   "id": "a41cd4b2",
   "metadata": {},
   "outputs": [],
   "source": [
    "class_names=['A', 'B', 'C', 'D', 'E', 'F', 'G', 'H', 'I', 'J', 'K', 'L', 'M','N', 'O', 'P', 'Q', 'R', 'S', 'T', 'U', 'V', 'W', 'X', 'Y', 'Z']"
   ]
  },
  {
   "cell_type": "code",
   "execution_count": 16,
   "id": "37f33104",
   "metadata": {},
   "outputs": [
    {
     "data": {
      "text/plain": [
       "array([1, 0, 2, 0, 0, 7, 6, 9, 0, 7, 8, 8, 5, 6, 0, 8], dtype=int64)"
      ]
     },
     "execution_count": 16,
     "metadata": {},
     "output_type": "execute_result"
    }
   ],
   "source": [
    " x_test[10]"
   ]
  },
  {
   "cell_type": "code",
   "execution_count": 17,
   "id": "7c90326e",
   "metadata": {},
   "outputs": [
    {
     "data": {
      "text/plain": [
       "'M'"
      ]
     },
     "execution_count": 17,
     "metadata": {},
     "output_type": "execute_result"
    }
   ],
   "source": [
    " y_test[10]"
   ]
  },
  {
   "cell_type": "code",
   "execution_count": 18,
   "id": "c2abe2ff",
   "metadata": {},
   "outputs": [],
   "source": [
    "x_train = x_train/255\n",
    "x_test = x_test/255"
   ]
  },
  {
   "cell_type": "code",
   "execution_count": 19,
   "id": "a7728e56",
   "metadata": {},
   "outputs": [],
   "source": [
    "from sklearn.preprocessing import LabelEncoder\n",
    "\n",
    "encoder = LabelEncoder()\n",
    "\n",
    "y_train = encoder.fit_transform(y_train)\n",
    "y_test = encoder.fit_transform(y_test)"
   ]
  },
  {
   "cell_type": "code",
   "execution_count": 20,
   "id": "35a76aca",
   "metadata": {},
   "outputs": [
    {
     "name": "stdout",
     "output_type": "stream",
     "text": [
      "WARNING:tensorflow:From C:\\Users\\Jayesh\\anaconda3\\Lib\\site-packages\\keras\\src\\losses.py:2976: The name tf.losses.sparse_softmax_cross_entropy is deprecated. Please use tf.compat.v1.losses.sparse_softmax_cross_entropy instead.\n",
      "\n"
     ]
    }
   ],
   "source": [
    "from tensorflow.keras.models import Sequential\n",
    "from tensorflow.keras.layers import Dense, Dropout"
   ]
  },
  {
   "cell_type": "code",
   "execution_count": 21,
   "id": "1667c043",
   "metadata": {},
   "outputs": [
    {
     "name": "stdout",
     "output_type": "stream",
     "text": [
      "WARNING:tensorflow:From C:\\Users\\Jayesh\\anaconda3\\Lib\\site-packages\\keras\\src\\backend.py:873: The name tf.get_default_graph is deprecated. Please use tf.compat.v1.get_default_graph instead.\n",
      "\n",
      "WARNING:tensorflow:From C:\\Users\\Jayesh\\anaconda3\\Lib\\site-packages\\keras\\src\\optimizers\\__init__.py:309: The name tf.train.Optimizer is deprecated. Please use tf.compat.v1.train.Optimizer instead.\n",
      "\n",
      "Model: \"sequential\"\n",
      "_________________________________________________________________\n",
      " Layer (type)                Output Shape              Param #   \n",
      "=================================================================\n",
      " dense (Dense)               (None, 512)               8704      \n",
      "                                                                 \n",
      " dropout (Dropout)           (None, 512)               0         \n",
      "                                                                 \n",
      " dense_1 (Dense)             (None, 256)               131328    \n",
      "                                                                 \n",
      " dropout_1 (Dropout)         (None, 256)               0         \n",
      "                                                                 \n",
      " dense_2 (Dense)             (None, 26)                6682      \n",
      "                                                                 \n",
      "=================================================================\n",
      "Total params: 146714 (573.10 KB)\n",
      "Trainable params: 146714 (573.10 KB)\n",
      "Non-trainable params: 0 (0.00 Byte)\n",
      "_________________________________________________________________\n"
     ]
    }
   ],
   "source": [
    "model=Sequential()\n",
    "\n",
    "model.add(Dense(512, activation='relu', input_shape=(16,)))\n",
    "model.add(Dropout(0.2))\n",
    "\n",
    "model.add(Dense(256, activation='relu'))\n",
    "model.add(Dropout(0.2))\n",
    "\n",
    "model.add(Dense(26, activation='softmax'))\n",
    "\n",
    "model.compile(optimizer='adam', loss='sparse_categorical_crossentropy',metrics=['accuracy'])\n",
    "model.summary()"
   ]
  },
  {
   "cell_type": "code",
   "execution_count": 22,
   "id": "f9dd9715",
   "metadata": {},
   "outputs": [
    {
     "name": "stdout",
     "output_type": "stream",
     "text": [
      "Epoch 1/50\n",
      "WARNING:tensorflow:From C:\\Users\\Jayesh\\anaconda3\\Lib\\site-packages\\keras\\src\\utils\\tf_utils.py:492: The name tf.ragged.RaggedTensorValue is deprecated. Please use tf.compat.v1.ragged.RaggedTensorValue instead.\n",
      "\n",
      "WARNING:tensorflow:From C:\\Users\\Jayesh\\anaconda3\\Lib\\site-packages\\keras\\src\\engine\\base_layer_utils.py:384: The name tf.executing_eagerly_outside_functions is deprecated. Please use tf.compat.v1.executing_eagerly_outside_functions instead.\n",
      "\n",
      "125/125 [==============================] - 2s 9ms/step - loss: 3.1394 - accuracy: 0.1554 - val_loss: 2.7753 - val_accuracy: 0.2935\n",
      "Epoch 2/50\n",
      "125/125 [==============================] - 1s 6ms/step - loss: 2.3647 - accuracy: 0.3134 - val_loss: 2.0601 - val_accuracy: 0.3927\n",
      "Epoch 3/50\n",
      "125/125 [==============================] - 1s 7ms/step - loss: 1.9700 - accuracy: 0.3996 - val_loss: 1.8077 - val_accuracy: 0.4580\n",
      "Epoch 4/50\n",
      "125/125 [==============================] - 1s 7ms/step - loss: 1.7636 - accuracy: 0.4654 - val_loss: 1.6391 - val_accuracy: 0.5320\n",
      "Epoch 5/50\n",
      "125/125 [==============================] - 1s 7ms/step - loss: 1.6303 - accuracy: 0.5048 - val_loss: 1.5200 - val_accuracy: 0.5337\n",
      "Epoch 6/50\n",
      "125/125 [==============================] - 1s 7ms/step - loss: 1.5311 - accuracy: 0.5366 - val_loss: 1.4404 - val_accuracy: 0.5695\n",
      "Epoch 7/50\n",
      "125/125 [==============================] - 1s 7ms/step - loss: 1.4621 - accuracy: 0.5610 - val_loss: 1.3677 - val_accuracy: 0.6077\n",
      "Epoch 8/50\n",
      "125/125 [==============================] - 1s 7ms/step - loss: 1.3938 - accuracy: 0.5807 - val_loss: 1.3023 - val_accuracy: 0.6363\n",
      "Epoch 9/50\n",
      "125/125 [==============================] - 1s 8ms/step - loss: 1.3410 - accuracy: 0.5956 - val_loss: 1.2625 - val_accuracy: 0.6445\n",
      "Epoch 10/50\n",
      "125/125 [==============================] - 1s 7ms/step - loss: 1.2916 - accuracy: 0.6160 - val_loss: 1.2069 - val_accuracy: 0.6615\n",
      "Epoch 11/50\n",
      "125/125 [==============================] - 1s 6ms/step - loss: 1.2439 - accuracy: 0.6317 - val_loss: 1.1716 - val_accuracy: 0.6718\n",
      "Epoch 12/50\n",
      "125/125 [==============================] - 1s 7ms/step - loss: 1.2062 - accuracy: 0.6418 - val_loss: 1.1320 - val_accuracy: 0.6685\n",
      "Epoch 13/50\n",
      "125/125 [==============================] - 1s 7ms/step - loss: 1.1618 - accuracy: 0.6554 - val_loss: 1.0887 - val_accuracy: 0.6925\n",
      "Epoch 14/50\n",
      "125/125 [==============================] - 1s 6ms/step - loss: 1.1229 - accuracy: 0.6658 - val_loss: 1.0466 - val_accuracy: 0.7013\n",
      "Epoch 15/50\n",
      "125/125 [==============================] - 1s 7ms/step - loss: 1.0804 - accuracy: 0.6826 - val_loss: 1.0082 - val_accuracy: 0.7050\n",
      "Epoch 16/50\n",
      "125/125 [==============================] - 1s 7ms/step - loss: 1.0594 - accuracy: 0.6854 - val_loss: 0.9774 - val_accuracy: 0.7130\n",
      "Epoch 17/50\n",
      "125/125 [==============================] - 1s 7ms/step - loss: 1.0251 - accuracy: 0.6910 - val_loss: 0.9654 - val_accuracy: 0.7157\n",
      "Epoch 18/50\n",
      "125/125 [==============================] - 1s 6ms/step - loss: 0.9966 - accuracy: 0.6999 - val_loss: 0.9145 - val_accuracy: 0.7318\n",
      "Epoch 19/50\n",
      "125/125 [==============================] - 1s 7ms/step - loss: 0.9688 - accuracy: 0.7072 - val_loss: 0.8990 - val_accuracy: 0.7368\n",
      "Epoch 20/50\n",
      "125/125 [==============================] - 1s 7ms/step - loss: 0.9388 - accuracy: 0.7204 - val_loss: 0.8677 - val_accuracy: 0.7445\n",
      "Epoch 21/50\n",
      "125/125 [==============================] - 1s 7ms/step - loss: 0.9165 - accuracy: 0.7243 - val_loss: 0.8498 - val_accuracy: 0.7485\n",
      "Epoch 22/50\n",
      "125/125 [==============================] - 1s 7ms/step - loss: 0.9039 - accuracy: 0.7254 - val_loss: 0.8273 - val_accuracy: 0.7517\n",
      "Epoch 23/50\n",
      "125/125 [==============================] - 1s 7ms/step - loss: 0.8720 - accuracy: 0.7346 - val_loss: 0.7970 - val_accuracy: 0.7617\n",
      "Epoch 24/50\n",
      "125/125 [==============================] - 1s 7ms/step - loss: 0.8522 - accuracy: 0.7414 - val_loss: 0.7798 - val_accuracy: 0.7697\n",
      "Epoch 25/50\n",
      "125/125 [==============================] - 1s 7ms/step - loss: 0.8364 - accuracy: 0.7477 - val_loss: 0.7597 - val_accuracy: 0.7735\n",
      "Epoch 26/50\n",
      "125/125 [==============================] - 1s 7ms/step - loss: 0.8187 - accuracy: 0.7496 - val_loss: 0.7444 - val_accuracy: 0.7797\n",
      "Epoch 27/50\n",
      "125/125 [==============================] - 1s 7ms/step - loss: 0.7938 - accuracy: 0.7577 - val_loss: 0.7334 - val_accuracy: 0.7755\n",
      "Epoch 28/50\n",
      "125/125 [==============================] - 1s 7ms/step - loss: 0.7828 - accuracy: 0.7590 - val_loss: 0.7153 - val_accuracy: 0.7847\n",
      "Epoch 29/50\n",
      "125/125 [==============================] - 1s 7ms/step - loss: 0.7651 - accuracy: 0.7654 - val_loss: 0.6935 - val_accuracy: 0.7895\n",
      "Epoch 30/50\n",
      "125/125 [==============================] - 1s 7ms/step - loss: 0.7533 - accuracy: 0.7702 - val_loss: 0.6740 - val_accuracy: 0.7945\n",
      "Epoch 31/50\n",
      "125/125 [==============================] - 1s 7ms/step - loss: 0.7316 - accuracy: 0.7748 - val_loss: 0.6600 - val_accuracy: 0.8012\n",
      "Epoch 32/50\n",
      "125/125 [==============================] - 1s 7ms/step - loss: 0.7200 - accuracy: 0.7759 - val_loss: 0.6592 - val_accuracy: 0.7980\n",
      "Epoch 33/50\n",
      "125/125 [==============================] - 1s 6ms/step - loss: 0.7022 - accuracy: 0.7874 - val_loss: 0.6335 - val_accuracy: 0.8050\n",
      "Epoch 34/50\n",
      "125/125 [==============================] - 1s 7ms/step - loss: 0.6950 - accuracy: 0.7871 - val_loss: 0.6392 - val_accuracy: 0.8062\n",
      "Epoch 35/50\n",
      "125/125 [==============================] - 1s 7ms/step - loss: 0.6852 - accuracy: 0.7887 - val_loss: 0.6107 - val_accuracy: 0.8177\n",
      "Epoch 36/50\n",
      "125/125 [==============================] - 1s 8ms/step - loss: 0.6640 - accuracy: 0.7965 - val_loss: 0.5949 - val_accuracy: 0.8152\n",
      "Epoch 37/50\n",
      "125/125 [==============================] - 1s 7ms/step - loss: 0.6541 - accuracy: 0.7994 - val_loss: 0.5824 - val_accuracy: 0.8232\n",
      "Epoch 38/50\n",
      "125/125 [==============================] - 1s 7ms/step - loss: 0.6456 - accuracy: 0.8012 - val_loss: 0.5753 - val_accuracy: 0.8213\n",
      "Epoch 39/50\n",
      "125/125 [==============================] - 1s 7ms/step - loss: 0.6309 - accuracy: 0.8061 - val_loss: 0.5583 - val_accuracy: 0.8273\n",
      "Epoch 40/50\n",
      "125/125 [==============================] - 1s 7ms/step - loss: 0.6191 - accuracy: 0.8106 - val_loss: 0.5510 - val_accuracy: 0.8335\n",
      "Epoch 41/50\n",
      "125/125 [==============================] - 1s 7ms/step - loss: 0.6188 - accuracy: 0.8052 - val_loss: 0.5409 - val_accuracy: 0.8342\n",
      "Epoch 42/50\n",
      "125/125 [==============================] - 1s 7ms/step - loss: 0.6040 - accuracy: 0.8119 - val_loss: 0.5454 - val_accuracy: 0.8295\n",
      "Epoch 43/50\n",
      "125/125 [==============================] - 1s 6ms/step - loss: 0.5915 - accuracy: 0.8156 - val_loss: 0.5161 - val_accuracy: 0.8428\n",
      "Epoch 44/50\n",
      "125/125 [==============================] - 1s 7ms/step - loss: 0.5824 - accuracy: 0.8176 - val_loss: 0.5193 - val_accuracy: 0.8380\n",
      "Epoch 45/50\n",
      "125/125 [==============================] - 1s 7ms/step - loss: 0.5763 - accuracy: 0.8214 - val_loss: 0.5057 - val_accuracy: 0.8432\n",
      "Epoch 46/50\n",
      "125/125 [==============================] - 1s 6ms/step - loss: 0.5566 - accuracy: 0.8266 - val_loss: 0.4972 - val_accuracy: 0.8495\n",
      "Epoch 47/50\n",
      "125/125 [==============================] - 1s 7ms/step - loss: 0.5507 - accuracy: 0.8284 - val_loss: 0.4878 - val_accuracy: 0.8540\n",
      "Epoch 48/50\n",
      "125/125 [==============================] - 1s 7ms/step - loss: 0.5462 - accuracy: 0.8283 - val_loss: 0.4788 - val_accuracy: 0.8508\n",
      "Epoch 49/50\n",
      "125/125 [==============================] - 1s 7ms/step - loss: 0.5276 - accuracy: 0.8369 - val_loss: 0.4628 - val_accuracy: 0.8597\n",
      "Epoch 50/50\n",
      "125/125 [==============================] - 1s 7ms/step - loss: 0.5251 - accuracy: 0.8349 - val_loss: 0.4576 - val_accuracy: 0.8590\n"
     ]
    },
    {
     "data": {
      "text/plain": [
       "<keras.src.callbacks.History at 0x27a3d6ae9d0>"
      ]
     },
     "execution_count": 22,
     "metadata": {},
     "output_type": "execute_result"
    }
   ],
   "source": [
    "model.fit(x_train, y_train, epochs=50, batch_size=128, verbose=1,validation_data=(x_test, y_test))"
   ]
  },
  {
   "cell_type": "code",
   "execution_count": 23,
   "id": "4c52ffec",
   "metadata": {},
   "outputs": [
    {
     "name": "stdout",
     "output_type": "stream",
     "text": [
      "125/125 [==============================] - 0s 2ms/step\n"
     ]
    }
   ],
   "source": [
    "predictions = model.predict(x_test)\n"
   ]
  },
  {
   "cell_type": "code",
   "execution_count": 24,
   "id": "50b8ab3a",
   "metadata": {},
   "outputs": [
    {
     "name": "stdout",
     "output_type": "stream",
     "text": [
      "[9.5201051e-07 2.2971567e-20 1.6434888e-10 7.4503248e-10 3.4555257e-20\n",
      " 1.3525551e-13 1.7712760e-13 5.7508878e-04 2.0250218e-14 2.6350295e-09\n",
      " 1.0782313e-06 7.0910937e-11 9.7669536e-01 2.2351833e-02 8.8453760e-07\n",
      " 6.6392834e-14 2.2060662e-10 2.0111972e-12 1.8345495e-14 2.7943725e-14\n",
      " 1.3720612e-05 2.1171491e-08 3.6103730e-04 9.3154833e-12 1.2706150e-13\n",
      " 1.4471215e-25]\n",
      "Actual label : 12\n",
      "Predicted label : 12\n",
      "Class (A-Z) : M\n"
     ]
    }
   ],
   "source": [
    "index=10\n",
    "\n",
    "print(predictions[index])\n",
    "\n",
    "final_value=np.argmax(predictions[index])\n",
    "\n",
    "print(\"Actual label :\",y_test[index])\n",
    "print(\"Predicted label :\",final_value)\n",
    "print(\"Class (A-Z) :\",class_names[final_value])"
   ]
  },
  {
   "cell_type": "code",
   "execution_count": 25,
   "id": "e3cf27e5",
   "metadata": {},
   "outputs": [
    {
     "name": "stdout",
     "output_type": "stream",
     "text": [
      "125/125 [==============================] - 0s 2ms/step - loss: 0.4576 - accuracy: 0.8590\n",
      "Loss : 0.45763805508613586\n",
      "Accuracy (Test Data) : 85.9000027179718\n"
     ]
    }
   ],
   "source": [
    "loss, accuracy = model.evaluate(x_test, y_test)\n",
    "\n",
    "print(\"Loss :\",loss)\n",
    "print(\"Accuracy (Test Data) :\",accuracy*100)"
   ]
  },
  {
   "cell_type": "code",
   "execution_count": null,
   "id": "e16a56b6",
   "metadata": {},
   "outputs": [],
   "source": []
  }
 ],
 "metadata": {
  "kernelspec": {
   "display_name": "Python 3 (ipykernel)",
   "language": "python",
   "name": "python3"
  },
  "language_info": {
   "codemirror_mode": {
    "name": "ipython",
    "version": 3
   },
   "file_extension": ".py",
   "mimetype": "text/x-python",
   "name": "python",
   "nbconvert_exporter": "python",
   "pygments_lexer": "ipython3",
   "version": "3.11.5"
  }
 },
 "nbformat": 4,
 "nbformat_minor": 5
}
