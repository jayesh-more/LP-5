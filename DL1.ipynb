{
 "cells": [
  {
   "cell_type": "code",
   "execution_count": 1,
   "id": "0001607d",
   "metadata": {},
   "outputs": [],
   "source": [
    "import pandas as pd\n",
    "import numpy as np\n",
    "from sklearn.model_selection import train_test_split"
   ]
  },
  {
   "cell_type": "code",
   "execution_count": 2,
   "id": "f2b3be24",
   "metadata": {},
   "outputs": [],
   "source": [
    "df = pd.read_csv(\"D:\\BostonHousing.csv\")"
   ]
  },
  {
   "cell_type": "code",
   "execution_count": 3,
   "id": "2f5d805a",
   "metadata": {},
   "outputs": [
    {
     "data": {
      "text/html": [
       "<div>\n",
       "<style scoped>\n",
       "    .dataframe tbody tr th:only-of-type {\n",
       "        vertical-align: middle;\n",
       "    }\n",
       "\n",
       "    .dataframe tbody tr th {\n",
       "        vertical-align: top;\n",
       "    }\n",
       "\n",
       "    .dataframe thead th {\n",
       "        text-align: right;\n",
       "    }\n",
       "</style>\n",
       "<table border=\"1\" class=\"dataframe\">\n",
       "  <thead>\n",
       "    <tr style=\"text-align: right;\">\n",
       "      <th></th>\n",
       "      <th>crim</th>\n",
       "      <th>zn</th>\n",
       "      <th>indus</th>\n",
       "      <th>chas</th>\n",
       "      <th>nox</th>\n",
       "      <th>rm</th>\n",
       "      <th>age</th>\n",
       "      <th>dis</th>\n",
       "      <th>rad</th>\n",
       "      <th>tax</th>\n",
       "      <th>ptratio</th>\n",
       "      <th>b</th>\n",
       "      <th>lstat</th>\n",
       "      <th>medv</th>\n",
       "    </tr>\n",
       "  </thead>\n",
       "  <tbody>\n",
       "    <tr>\n",
       "      <th>0</th>\n",
       "      <td>0.00632</td>\n",
       "      <td>18.0</td>\n",
       "      <td>2.31</td>\n",
       "      <td>0</td>\n",
       "      <td>0.538</td>\n",
       "      <td>6.575</td>\n",
       "      <td>65.2</td>\n",
       "      <td>4.0900</td>\n",
       "      <td>1</td>\n",
       "      <td>296</td>\n",
       "      <td>15.3</td>\n",
       "      <td>396.90</td>\n",
       "      <td>4.98</td>\n",
       "      <td>24.0</td>\n",
       "    </tr>\n",
       "    <tr>\n",
       "      <th>1</th>\n",
       "      <td>0.02731</td>\n",
       "      <td>0.0</td>\n",
       "      <td>7.07</td>\n",
       "      <td>0</td>\n",
       "      <td>0.469</td>\n",
       "      <td>6.421</td>\n",
       "      <td>78.9</td>\n",
       "      <td>4.9671</td>\n",
       "      <td>2</td>\n",
       "      <td>242</td>\n",
       "      <td>17.8</td>\n",
       "      <td>396.90</td>\n",
       "      <td>9.14</td>\n",
       "      <td>21.6</td>\n",
       "    </tr>\n",
       "    <tr>\n",
       "      <th>2</th>\n",
       "      <td>0.02729</td>\n",
       "      <td>0.0</td>\n",
       "      <td>7.07</td>\n",
       "      <td>0</td>\n",
       "      <td>0.469</td>\n",
       "      <td>7.185</td>\n",
       "      <td>61.1</td>\n",
       "      <td>4.9671</td>\n",
       "      <td>2</td>\n",
       "      <td>242</td>\n",
       "      <td>17.8</td>\n",
       "      <td>392.83</td>\n",
       "      <td>4.03</td>\n",
       "      <td>34.7</td>\n",
       "    </tr>\n",
       "    <tr>\n",
       "      <th>3</th>\n",
       "      <td>0.03237</td>\n",
       "      <td>0.0</td>\n",
       "      <td>2.18</td>\n",
       "      <td>0</td>\n",
       "      <td>0.458</td>\n",
       "      <td>6.998</td>\n",
       "      <td>45.8</td>\n",
       "      <td>6.0622</td>\n",
       "      <td>3</td>\n",
       "      <td>222</td>\n",
       "      <td>18.7</td>\n",
       "      <td>394.63</td>\n",
       "      <td>2.94</td>\n",
       "      <td>33.4</td>\n",
       "    </tr>\n",
       "    <tr>\n",
       "      <th>4</th>\n",
       "      <td>0.06905</td>\n",
       "      <td>0.0</td>\n",
       "      <td>2.18</td>\n",
       "      <td>0</td>\n",
       "      <td>0.458</td>\n",
       "      <td>7.147</td>\n",
       "      <td>54.2</td>\n",
       "      <td>6.0622</td>\n",
       "      <td>3</td>\n",
       "      <td>222</td>\n",
       "      <td>18.7</td>\n",
       "      <td>396.90</td>\n",
       "      <td>5.33</td>\n",
       "      <td>36.2</td>\n",
       "    </tr>\n",
       "    <tr>\n",
       "      <th>...</th>\n",
       "      <td>...</td>\n",
       "      <td>...</td>\n",
       "      <td>...</td>\n",
       "      <td>...</td>\n",
       "      <td>...</td>\n",
       "      <td>...</td>\n",
       "      <td>...</td>\n",
       "      <td>...</td>\n",
       "      <td>...</td>\n",
       "      <td>...</td>\n",
       "      <td>...</td>\n",
       "      <td>...</td>\n",
       "      <td>...</td>\n",
       "      <td>...</td>\n",
       "    </tr>\n",
       "    <tr>\n",
       "      <th>501</th>\n",
       "      <td>0.06263</td>\n",
       "      <td>0.0</td>\n",
       "      <td>11.93</td>\n",
       "      <td>0</td>\n",
       "      <td>0.573</td>\n",
       "      <td>6.593</td>\n",
       "      <td>69.1</td>\n",
       "      <td>2.4786</td>\n",
       "      <td>1</td>\n",
       "      <td>273</td>\n",
       "      <td>21.0</td>\n",
       "      <td>391.99</td>\n",
       "      <td>9.67</td>\n",
       "      <td>22.4</td>\n",
       "    </tr>\n",
       "    <tr>\n",
       "      <th>502</th>\n",
       "      <td>0.04527</td>\n",
       "      <td>0.0</td>\n",
       "      <td>11.93</td>\n",
       "      <td>0</td>\n",
       "      <td>0.573</td>\n",
       "      <td>6.120</td>\n",
       "      <td>76.7</td>\n",
       "      <td>2.2875</td>\n",
       "      <td>1</td>\n",
       "      <td>273</td>\n",
       "      <td>21.0</td>\n",
       "      <td>396.90</td>\n",
       "      <td>9.08</td>\n",
       "      <td>20.6</td>\n",
       "    </tr>\n",
       "    <tr>\n",
       "      <th>503</th>\n",
       "      <td>0.06076</td>\n",
       "      <td>0.0</td>\n",
       "      <td>11.93</td>\n",
       "      <td>0</td>\n",
       "      <td>0.573</td>\n",
       "      <td>6.976</td>\n",
       "      <td>91.0</td>\n",
       "      <td>2.1675</td>\n",
       "      <td>1</td>\n",
       "      <td>273</td>\n",
       "      <td>21.0</td>\n",
       "      <td>396.90</td>\n",
       "      <td>5.64</td>\n",
       "      <td>23.9</td>\n",
       "    </tr>\n",
       "    <tr>\n",
       "      <th>504</th>\n",
       "      <td>0.10959</td>\n",
       "      <td>0.0</td>\n",
       "      <td>11.93</td>\n",
       "      <td>0</td>\n",
       "      <td>0.573</td>\n",
       "      <td>6.794</td>\n",
       "      <td>89.3</td>\n",
       "      <td>2.3889</td>\n",
       "      <td>1</td>\n",
       "      <td>273</td>\n",
       "      <td>21.0</td>\n",
       "      <td>393.45</td>\n",
       "      <td>6.48</td>\n",
       "      <td>22.0</td>\n",
       "    </tr>\n",
       "    <tr>\n",
       "      <th>505</th>\n",
       "      <td>0.04741</td>\n",
       "      <td>0.0</td>\n",
       "      <td>11.93</td>\n",
       "      <td>0</td>\n",
       "      <td>0.573</td>\n",
       "      <td>6.030</td>\n",
       "      <td>80.8</td>\n",
       "      <td>2.5050</td>\n",
       "      <td>1</td>\n",
       "      <td>273</td>\n",
       "      <td>21.0</td>\n",
       "      <td>396.90</td>\n",
       "      <td>7.88</td>\n",
       "      <td>11.9</td>\n",
       "    </tr>\n",
       "  </tbody>\n",
       "</table>\n",
       "<p>506 rows × 14 columns</p>\n",
       "</div>"
      ],
      "text/plain": [
       "        crim    zn  indus  chas    nox     rm   age     dis  rad  tax  \\\n",
       "0    0.00632  18.0   2.31     0  0.538  6.575  65.2  4.0900    1  296   \n",
       "1    0.02731   0.0   7.07     0  0.469  6.421  78.9  4.9671    2  242   \n",
       "2    0.02729   0.0   7.07     0  0.469  7.185  61.1  4.9671    2  242   \n",
       "3    0.03237   0.0   2.18     0  0.458  6.998  45.8  6.0622    3  222   \n",
       "4    0.06905   0.0   2.18     0  0.458  7.147  54.2  6.0622    3  222   \n",
       "..       ...   ...    ...   ...    ...    ...   ...     ...  ...  ...   \n",
       "501  0.06263   0.0  11.93     0  0.573  6.593  69.1  2.4786    1  273   \n",
       "502  0.04527   0.0  11.93     0  0.573  6.120  76.7  2.2875    1  273   \n",
       "503  0.06076   0.0  11.93     0  0.573  6.976  91.0  2.1675    1  273   \n",
       "504  0.10959   0.0  11.93     0  0.573  6.794  89.3  2.3889    1  273   \n",
       "505  0.04741   0.0  11.93     0  0.573  6.030  80.8  2.5050    1  273   \n",
       "\n",
       "     ptratio       b  lstat  medv  \n",
       "0       15.3  396.90   4.98  24.0  \n",
       "1       17.8  396.90   9.14  21.6  \n",
       "2       17.8  392.83   4.03  34.7  \n",
       "3       18.7  394.63   2.94  33.4  \n",
       "4       18.7  396.90   5.33  36.2  \n",
       "..       ...     ...    ...   ...  \n",
       "501     21.0  391.99   9.67  22.4  \n",
       "502     21.0  396.90   9.08  20.6  \n",
       "503     21.0  396.90   5.64  23.9  \n",
       "504     21.0  393.45   6.48  22.0  \n",
       "505     21.0  396.90   7.88  11.9  \n",
       "\n",
       "[506 rows x 14 columns]"
      ]
     },
     "execution_count": 3,
     "metadata": {},
     "output_type": "execute_result"
    }
   ],
   "source": [
    "df"
   ]
  },
  {
   "cell_type": "code",
   "execution_count": 4,
   "id": "673a6421",
   "metadata": {},
   "outputs": [],
   "source": [
    "x = df.drop(\"medv\", axis=1).values\n",
    "y = df[\"medv\"].values"
   ]
  },
  {
   "cell_type": "code",
   "execution_count": 5,
   "id": "60b5e440",
   "metadata": {},
   "outputs": [
    {
     "data": {
      "text/plain": [
       "(506, 13)"
      ]
     },
     "execution_count": 5,
     "metadata": {},
     "output_type": "execute_result"
    }
   ],
   "source": [
    "x.shape"
   ]
  },
  {
   "cell_type": "code",
   "execution_count": 6,
   "id": "2a2db6b2",
   "metadata": {},
   "outputs": [
    {
     "data": {
      "text/plain": [
       "(506,)"
      ]
     },
     "execution_count": 6,
     "metadata": {},
     "output_type": "execute_result"
    }
   ],
   "source": [
    "y.shape"
   ]
  },
  {
   "cell_type": "code",
   "execution_count": 7,
   "id": "6efc5a66",
   "metadata": {},
   "outputs": [],
   "source": [
    "x_train, x_test, y_train, y_test = train_test_split(x, y, test_size=0.2)"
   ]
  },
  {
   "cell_type": "code",
   "execution_count": 8,
   "id": "a6f1eb55",
   "metadata": {},
   "outputs": [
    {
     "name": "stdout",
     "output_type": "stream",
     "text": [
      "x_train Shape : (404, 13)\n",
      "x_test Shape : (102, 13)\n",
      "y_train shape : (404,)\n",
      "y_test shape : (102,)\n"
     ]
    }
   ],
   "source": [
    "def shape():\n",
    "    print(\"x_train Shape :\",x_train.shape)\n",
    "    print(\"x_test Shape :\",x_test.shape)\n",
    "    print(\"y_train shape :\",y_train.shape)\n",
    "    print(\"y_test shape :\",y_test.shape)\n",
    "\n",
    "shape()"
   ]
  },
  {
   "cell_type": "code",
   "execution_count": 9,
   "id": "6283f77c",
   "metadata": {},
   "outputs": [],
   "source": [
    "mean=x_train.mean(axis=0)\n",
    "std=x_train.std(axis=0)\n",
    "\n",
    "x_train=(x_train-mean)/std\n",
    "x_test=(x_test-mean)/std"
   ]
  },
  {
   "cell_type": "code",
   "execution_count": 10,
   "id": "8a5cac46",
   "metadata": {},
   "outputs": [
    {
     "data": {
      "text/plain": [
       "array([ 0.70479829, -0.47630344,  0.98949382, -0.29329423,  0.23237106,\n",
       "        0.74476249,  0.91558463, -0.80113519,  1.66477044,  1.53244364,\n",
       "        0.82325069, -3.18132723,  0.97325981])"
      ]
     },
     "execution_count": 10,
     "metadata": {},
     "output_type": "execute_result"
    }
   ],
   "source": [
    "x_train[0]"
   ]
  },
  {
   "cell_type": "code",
   "execution_count": 11,
   "id": "3cb5cd08",
   "metadata": {},
   "outputs": [
    {
     "data": {
      "text/plain": [
       "14.1"
      ]
     },
     "execution_count": 11,
     "metadata": {},
     "output_type": "execute_result"
    }
   ],
   "source": [
    "y_train[0]"
   ]
  },
  {
   "cell_type": "code",
   "execution_count": 12,
   "id": "e700ff24",
   "metadata": {},
   "outputs": [
    {
     "name": "stdout",
     "output_type": "stream",
     "text": [
      "WARNING:tensorflow:From C:\\Users\\Jayesh\\anaconda3\\Lib\\site-packages\\keras\\src\\losses.py:2976: The name tf.losses.sparse_softmax_cross_entropy is deprecated. Please use tf.compat.v1.losses.sparse_softmax_cross_entropy instead.\n",
      "\n"
     ]
    }
   ],
   "source": [
    "from tensorflow.keras.models import Sequential\n",
    "from tensorflow.keras.layers import Dense"
   ]
  },
  {
   "cell_type": "code",
   "execution_count": 13,
   "id": "ef5065ff",
   "metadata": {},
   "outputs": [
    {
     "name": "stdout",
     "output_type": "stream",
     "text": [
      "WARNING:tensorflow:From C:\\Users\\Jayesh\\anaconda3\\Lib\\site-packages\\keras\\src\\backend.py:873: The name tf.get_default_graph is deprecated. Please use tf.compat.v1.get_default_graph instead.\n",
      "\n",
      "WARNING:tensorflow:From C:\\Users\\Jayesh\\anaconda3\\Lib\\site-packages\\keras\\src\\optimizers\\__init__.py:309: The name tf.train.Optimizer is deprecated. Please use tf.compat.v1.train.Optimizer instead.\n",
      "\n",
      "Model: \"sequential\"\n",
      "_________________________________________________________________\n",
      " Layer (type)                Output Shape              Param #   \n",
      "=================================================================\n",
      " dense (Dense)               (None, 128)               1792      \n",
      "                                                                 \n",
      " dense_1 (Dense)             (None, 64)                8256      \n",
      "                                                                 \n",
      " dense_2 (Dense)             (None, 1)                 65        \n",
      "                                                                 \n",
      "=================================================================\n",
      "Total params: 10113 (39.50 KB)\n",
      "Trainable params: 10113 (39.50 KB)\n",
      "Non-trainable params: 0 (0.00 Byte)\n",
      "_________________________________________________________________\n"
     ]
    }
   ],
   "source": [
    "model=Sequential()\n",
    "model.add(Dense(128,activation='relu',input_shape=(x_train[0].shape)))\n",
    "model.add(Dense(64,activation='relu'))\n",
    "model.add(Dense(1,activation='linear'))\n",
    "model.compile(optimizer='adam', loss='mse', metrics=['mae'])\n",
    "model.summary()"
   ]
  },
  {
   "cell_type": "code",
   "execution_count": 14,
   "id": "d6944721",
   "metadata": {},
   "outputs": [
    {
     "name": "stdout",
     "output_type": "stream",
     "text": [
      "Epoch 1/100\n",
      "WARNING:tensorflow:From C:\\Users\\Jayesh\\anaconda3\\Lib\\site-packages\\keras\\src\\utils\\tf_utils.py:492: The name tf.ragged.RaggedTensorValue is deprecated. Please use tf.compat.v1.ragged.RaggedTensorValue instead.\n",
      "\n",
      "WARNING:tensorflow:From C:\\Users\\Jayesh\\anaconda3\\Lib\\site-packages\\keras\\src\\engine\\base_layer_utils.py:384: The name tf.executing_eagerly_outside_functions is deprecated. Please use tf.compat.v1.executing_eagerly_outside_functions instead.\n",
      "\n",
      "404/404 [==============================] - 2s 3ms/step - loss: 119.4152 - mae: 7.2328 - val_loss: 27.8825 - val_mae: 3.6266\n",
      "Epoch 2/100\n",
      "404/404 [==============================] - 1s 3ms/step - loss: 19.1977 - mae: 3.1113 - val_loss: 18.9476 - val_mae: 3.0476\n",
      "Epoch 3/100\n",
      "404/404 [==============================] - 1s 3ms/step - loss: 15.2296 - mae: 2.8091 - val_loss: 18.0680 - val_mae: 2.8117\n",
      "Epoch 4/100\n",
      "404/404 [==============================] - 1s 3ms/step - loss: 13.7789 - mae: 2.6846 - val_loss: 18.3455 - val_mae: 3.0711\n",
      "Epoch 5/100\n",
      "404/404 [==============================] - 1s 3ms/step - loss: 12.4598 - mae: 2.4858 - val_loss: 18.1724 - val_mae: 2.8722\n",
      "Epoch 6/100\n",
      "404/404 [==============================] - 1s 2ms/step - loss: 12.1519 - mae: 2.4890 - val_loss: 15.7750 - val_mae: 2.6672\n",
      "Epoch 7/100\n",
      "404/404 [==============================] - 1s 2ms/step - loss: 11.4932 - mae: 2.3622 - val_loss: 17.7153 - val_mae: 2.8057\n",
      "Epoch 8/100\n",
      "404/404 [==============================] - 1s 2ms/step - loss: 11.0350 - mae: 2.3752 - val_loss: 15.4281 - val_mae: 2.8476\n",
      "Epoch 9/100\n",
      "404/404 [==============================] - 1s 2ms/step - loss: 10.2697 - mae: 2.3183 - val_loss: 15.9605 - val_mae: 2.6632\n",
      "Epoch 10/100\n",
      "404/404 [==============================] - 1s 3ms/step - loss: 10.4847 - mae: 2.3595 - val_loss: 16.1505 - val_mae: 2.7589\n",
      "Epoch 11/100\n",
      "404/404 [==============================] - 2s 4ms/step - loss: 9.2524 - mae: 2.2551 - val_loss: 15.0212 - val_mae: 2.7607\n",
      "Epoch 12/100\n",
      "404/404 [==============================] - 1s 3ms/step - loss: 9.5746 - mae: 2.2766 - val_loss: 13.8358 - val_mae: 2.5120\n",
      "Epoch 13/100\n",
      "404/404 [==============================] - 1s 2ms/step - loss: 8.6141 - mae: 2.1793 - val_loss: 14.6303 - val_mae: 2.5952\n",
      "Epoch 14/100\n",
      "404/404 [==============================] - 1s 3ms/step - loss: 9.0242 - mae: 2.1559 - val_loss: 13.2914 - val_mae: 2.5783\n",
      "Epoch 15/100\n",
      "404/404 [==============================] - 1s 3ms/step - loss: 8.1164 - mae: 2.1292 - val_loss: 14.7509 - val_mae: 2.6619\n",
      "Epoch 16/100\n",
      "404/404 [==============================] - 1s 3ms/step - loss: 8.3359 - mae: 2.0985 - val_loss: 13.5966 - val_mae: 2.5099\n",
      "Epoch 17/100\n",
      "404/404 [==============================] - 1s 3ms/step - loss: 8.2431 - mae: 2.1117 - val_loss: 13.6471 - val_mae: 2.5650\n",
      "Epoch 18/100\n",
      "404/404 [==============================] - 1s 2ms/step - loss: 7.7935 - mae: 2.0259 - val_loss: 14.6933 - val_mae: 2.7849\n",
      "Epoch 19/100\n",
      "404/404 [==============================] - 1s 2ms/step - loss: 7.7529 - mae: 2.0453 - val_loss: 12.6998 - val_mae: 2.5129\n",
      "Epoch 20/100\n",
      "404/404 [==============================] - 1s 2ms/step - loss: 8.1025 - mae: 2.0108 - val_loss: 14.3627 - val_mae: 2.7311\n",
      "Epoch 21/100\n",
      "404/404 [==============================] - 1s 2ms/step - loss: 7.1283 - mae: 1.9483 - val_loss: 14.7727 - val_mae: 2.8345\n",
      "Epoch 22/100\n",
      "404/404 [==============================] - 1s 2ms/step - loss: 7.1472 - mae: 1.9568 - val_loss: 12.8711 - val_mae: 2.4551\n",
      "Epoch 23/100\n",
      "404/404 [==============================] - 1s 2ms/step - loss: 6.7077 - mae: 1.9103 - val_loss: 14.2274 - val_mae: 2.8109\n",
      "Epoch 24/100\n",
      "404/404 [==============================] - 1s 2ms/step - loss: 6.4466 - mae: 1.8541 - val_loss: 12.9165 - val_mae: 2.5374\n",
      "Epoch 25/100\n",
      "404/404 [==============================] - 1s 3ms/step - loss: 7.0406 - mae: 1.9304 - val_loss: 12.9953 - val_mae: 2.6576\n",
      "Epoch 26/100\n",
      "404/404 [==============================] - 1s 3ms/step - loss: 6.2004 - mae: 1.8588 - val_loss: 12.2897 - val_mae: 2.4758\n",
      "Epoch 27/100\n",
      "404/404 [==============================] - 1s 2ms/step - loss: 6.1758 - mae: 1.8157 - val_loss: 15.9660 - val_mae: 2.8813\n",
      "Epoch 28/100\n",
      "404/404 [==============================] - 1s 2ms/step - loss: 5.9972 - mae: 1.7598 - val_loss: 11.8872 - val_mae: 2.3048\n",
      "Epoch 29/100\n",
      "404/404 [==============================] - 1s 2ms/step - loss: 5.7468 - mae: 1.7732 - val_loss: 14.3066 - val_mae: 2.6449\n",
      "Epoch 30/100\n",
      "404/404 [==============================] - 1s 2ms/step - loss: 5.6880 - mae: 1.7828 - val_loss: 11.7392 - val_mae: 2.3024\n",
      "Epoch 31/100\n",
      "404/404 [==============================] - 1s 2ms/step - loss: 5.4323 - mae: 1.6770 - val_loss: 13.0630 - val_mae: 2.4576\n",
      "Epoch 32/100\n",
      "404/404 [==============================] - 1s 2ms/step - loss: 5.6217 - mae: 1.7861 - val_loss: 13.8004 - val_mae: 2.5233\n",
      "Epoch 33/100\n",
      "404/404 [==============================] - 1s 2ms/step - loss: 5.6998 - mae: 1.7888 - val_loss: 12.5570 - val_mae: 2.4327\n",
      "Epoch 34/100\n",
      "404/404 [==============================] - 1s 2ms/step - loss: 5.7542 - mae: 1.7641 - val_loss: 14.2538 - val_mae: 2.5434\n",
      "Epoch 35/100\n",
      "404/404 [==============================] - 1s 2ms/step - loss: 5.4710 - mae: 1.7390 - val_loss: 14.7598 - val_mae: 2.6760\n",
      "Epoch 36/100\n",
      "404/404 [==============================] - 1s 2ms/step - loss: 5.0350 - mae: 1.6723 - val_loss: 13.0971 - val_mae: 2.5501\n",
      "Epoch 37/100\n",
      "404/404 [==============================] - 1s 2ms/step - loss: 5.3623 - mae: 1.7342 - val_loss: 14.0626 - val_mae: 2.6510\n",
      "Epoch 38/100\n",
      "404/404 [==============================] - 1s 2ms/step - loss: 4.7749 - mae: 1.6394 - val_loss: 12.9742 - val_mae: 2.5208\n",
      "Epoch 39/100\n",
      "404/404 [==============================] - 1s 2ms/step - loss: 5.4924 - mae: 1.7413 - val_loss: 11.8061 - val_mae: 2.3877\n",
      "Epoch 40/100\n",
      "404/404 [==============================] - 1s 2ms/step - loss: 5.2668 - mae: 1.6916 - val_loss: 12.6066 - val_mae: 2.4555\n",
      "Epoch 41/100\n",
      "404/404 [==============================] - 1s 3ms/step - loss: 4.5245 - mae: 1.5837 - val_loss: 14.8851 - val_mae: 2.8287\n",
      "Epoch 42/100\n",
      "404/404 [==============================] - 1s 3ms/step - loss: 4.8735 - mae: 1.6972 - val_loss: 12.4711 - val_mae: 2.4378\n",
      "Epoch 43/100\n",
      "404/404 [==============================] - 1s 3ms/step - loss: 4.8557 - mae: 1.6529 - val_loss: 14.4004 - val_mae: 2.6818\n",
      "Epoch 44/100\n",
      "404/404 [==============================] - 1s 3ms/step - loss: 5.4467 - mae: 1.7271 - val_loss: 12.8367 - val_mae: 2.5093\n",
      "Epoch 45/100\n",
      "404/404 [==============================] - 1s 3ms/step - loss: 4.1200 - mae: 1.5131 - val_loss: 13.1280 - val_mae: 2.4357\n",
      "Epoch 46/100\n",
      "404/404 [==============================] - 1s 3ms/step - loss: 4.7751 - mae: 1.6260 - val_loss: 10.8186 - val_mae: 2.3039\n",
      "Epoch 47/100\n",
      "404/404 [==============================] - 1s 3ms/step - loss: 4.6175 - mae: 1.5637 - val_loss: 13.5134 - val_mae: 2.4846\n",
      "Epoch 48/100\n",
      "404/404 [==============================] - 1s 3ms/step - loss: 4.5720 - mae: 1.5851 - val_loss: 12.3221 - val_mae: 2.4505\n",
      "Epoch 49/100\n",
      "404/404 [==============================] - 1s 3ms/step - loss: 4.3213 - mae: 1.5298 - val_loss: 12.3279 - val_mae: 2.3891\n",
      "Epoch 50/100\n",
      "404/404 [==============================] - 1s 3ms/step - loss: 4.0010 - mae: 1.4746 - val_loss: 12.3331 - val_mae: 2.4524\n",
      "Epoch 51/100\n",
      "404/404 [==============================] - 1s 3ms/step - loss: 4.3180 - mae: 1.5442 - val_loss: 14.9252 - val_mae: 2.7186\n",
      "Epoch 52/100\n",
      "404/404 [==============================] - 1s 3ms/step - loss: 3.9458 - mae: 1.4625 - val_loss: 11.8976 - val_mae: 2.3879\n",
      "Epoch 53/100\n",
      "404/404 [==============================] - 1s 2ms/step - loss: 4.1810 - mae: 1.5107 - val_loss: 13.4349 - val_mae: 2.4653\n",
      "Epoch 54/100\n",
      "404/404 [==============================] - 1s 2ms/step - loss: 3.9545 - mae: 1.5060 - val_loss: 15.6539 - val_mae: 2.9197\n",
      "Epoch 55/100\n",
      "404/404 [==============================] - 1s 2ms/step - loss: 4.1569 - mae: 1.4708 - val_loss: 13.6459 - val_mae: 2.4160\n",
      "Epoch 56/100\n",
      "404/404 [==============================] - 1s 2ms/step - loss: 4.0421 - mae: 1.4899 - val_loss: 14.2406 - val_mae: 2.5488\n",
      "Epoch 57/100\n",
      "404/404 [==============================] - 1s 2ms/step - loss: 3.6996 - mae: 1.4013 - val_loss: 12.9931 - val_mae: 2.4392\n",
      "Epoch 58/100\n",
      "404/404 [==============================] - 1s 2ms/step - loss: 3.8728 - mae: 1.4806 - val_loss: 13.9540 - val_mae: 2.5774\n",
      "Epoch 59/100\n",
      "404/404 [==============================] - 1s 2ms/step - loss: 3.5632 - mae: 1.3767 - val_loss: 13.8817 - val_mae: 2.5991\n",
      "Epoch 60/100\n",
      "404/404 [==============================] - 1s 2ms/step - loss: 3.9641 - mae: 1.5204 - val_loss: 14.1157 - val_mae: 2.6425\n",
      "Epoch 61/100\n",
      "404/404 [==============================] - 1s 2ms/step - loss: 3.6495 - mae: 1.3887 - val_loss: 13.1019 - val_mae: 2.6113\n",
      "Epoch 62/100\n",
      "404/404 [==============================] - 1s 3ms/step - loss: 3.7820 - mae: 1.4604 - val_loss: 11.0129 - val_mae: 2.2031\n",
      "Epoch 63/100\n",
      "404/404 [==============================] - 1s 3ms/step - loss: 3.2086 - mae: 1.3523 - val_loss: 13.5649 - val_mae: 2.5867\n",
      "Epoch 64/100\n",
      "404/404 [==============================] - 1s 2ms/step - loss: 3.1949 - mae: 1.3436 - val_loss: 12.9428 - val_mae: 2.4000\n",
      "Epoch 65/100\n",
      "404/404 [==============================] - 1s 3ms/step - loss: 3.1533 - mae: 1.3368 - val_loss: 12.1408 - val_mae: 2.3600\n",
      "Epoch 66/100\n",
      "404/404 [==============================] - 1s 2ms/step - loss: 3.4961 - mae: 1.3924 - val_loss: 12.1158 - val_mae: 2.4148\n",
      "Epoch 67/100\n",
      "404/404 [==============================] - 1s 2ms/step - loss: 3.5104 - mae: 1.4358 - val_loss: 13.3350 - val_mae: 2.5260\n",
      "Epoch 68/100\n",
      "404/404 [==============================] - 1s 2ms/step - loss: 3.6281 - mae: 1.3529 - val_loss: 14.1211 - val_mae: 2.4786\n",
      "Epoch 69/100\n",
      "404/404 [==============================] - 1s 2ms/step - loss: 3.2774 - mae: 1.3174 - val_loss: 12.9474 - val_mae: 2.4337\n",
      "Epoch 70/100\n",
      "404/404 [==============================] - 1s 2ms/step - loss: 3.5487 - mae: 1.3895 - val_loss: 11.5274 - val_mae: 2.1789\n",
      "Epoch 71/100\n",
      "404/404 [==============================] - 1s 2ms/step - loss: 3.1345 - mae: 1.3204 - val_loss: 14.3769 - val_mae: 2.4539\n",
      "Epoch 72/100\n",
      "404/404 [==============================] - 1s 2ms/step - loss: 2.9676 - mae: 1.3099 - val_loss: 11.6065 - val_mae: 2.1828\n",
      "Epoch 73/100\n",
      "404/404 [==============================] - 1s 2ms/step - loss: 3.2924 - mae: 1.3124 - val_loss: 12.7291 - val_mae: 2.4366\n",
      "Epoch 74/100\n",
      "404/404 [==============================] - 1s 2ms/step - loss: 2.8093 - mae: 1.2440 - val_loss: 13.4220 - val_mae: 2.4943\n",
      "Epoch 75/100\n",
      "404/404 [==============================] - 1s 2ms/step - loss: 3.0211 - mae: 1.3048 - val_loss: 11.9170 - val_mae: 2.3530\n",
      "Epoch 76/100\n",
      "404/404 [==============================] - 1s 2ms/step - loss: 3.0026 - mae: 1.3044 - val_loss: 14.3585 - val_mae: 2.5881\n",
      "Epoch 77/100\n",
      "404/404 [==============================] - 1s 2ms/step - loss: 2.7726 - mae: 1.2367 - val_loss: 13.5234 - val_mae: 2.4511\n",
      "Epoch 78/100\n",
      "404/404 [==============================] - 1s 2ms/step - loss: 2.4632 - mae: 1.1596 - val_loss: 13.1851 - val_mae: 2.6028\n",
      "Epoch 79/100\n",
      "404/404 [==============================] - 1s 2ms/step - loss: 3.1617 - mae: 1.3723 - val_loss: 12.2647 - val_mae: 2.3111\n",
      "Epoch 80/100\n",
      "404/404 [==============================] - 1s 2ms/step - loss: 3.0469 - mae: 1.2898 - val_loss: 12.6576 - val_mae: 2.3165\n",
      "Epoch 81/100\n",
      "404/404 [==============================] - 1s 2ms/step - loss: 2.9594 - mae: 1.2970 - val_loss: 12.2641 - val_mae: 2.3387\n",
      "Epoch 82/100\n",
      "404/404 [==============================] - 1s 2ms/step - loss: 2.6493 - mae: 1.2464 - val_loss: 11.2775 - val_mae: 2.2509\n",
      "Epoch 83/100\n",
      "404/404 [==============================] - 1s 2ms/step - loss: 2.6046 - mae: 1.2131 - val_loss: 11.3494 - val_mae: 2.1736\n",
      "Epoch 84/100\n",
      "404/404 [==============================] - 1s 2ms/step - loss: 3.1094 - mae: 1.3169 - val_loss: 13.7886 - val_mae: 2.6251\n",
      "Epoch 85/100\n",
      "404/404 [==============================] - 1s 2ms/step - loss: 3.0263 - mae: 1.2844 - val_loss: 14.5536 - val_mae: 2.6227\n",
      "Epoch 86/100\n",
      "404/404 [==============================] - 1s 2ms/step - loss: 2.8156 - mae: 1.2283 - val_loss: 14.1938 - val_mae: 2.6919\n",
      "Epoch 87/100\n",
      "404/404 [==============================] - 1s 2ms/step - loss: 2.9640 - mae: 1.2805 - val_loss: 11.4447 - val_mae: 2.2472\n",
      "Epoch 88/100\n",
      "404/404 [==============================] - 1s 2ms/step - loss: 2.5499 - mae: 1.1950 - val_loss: 12.9048 - val_mae: 2.4506\n",
      "Epoch 89/100\n",
      "404/404 [==============================] - 1s 2ms/step - loss: 2.8185 - mae: 1.2567 - val_loss: 13.3936 - val_mae: 2.5765\n",
      "Epoch 90/100\n",
      "404/404 [==============================] - 1s 2ms/step - loss: 2.7107 - mae: 1.2414 - val_loss: 12.7414 - val_mae: 2.3223\n",
      "Epoch 91/100\n",
      "404/404 [==============================] - 1s 2ms/step - loss: 2.8417 - mae: 1.2227 - val_loss: 12.9222 - val_mae: 2.3654\n",
      "Epoch 92/100\n",
      "404/404 [==============================] - 1s 2ms/step - loss: 2.2942 - mae: 1.0926 - val_loss: 12.9023 - val_mae: 2.4636\n",
      "Epoch 93/100\n",
      "404/404 [==============================] - 1s 2ms/step - loss: 2.2288 - mae: 1.1218 - val_loss: 12.2173 - val_mae: 2.2262\n",
      "Epoch 94/100\n",
      "404/404 [==============================] - 1s 2ms/step - loss: 2.4822 - mae: 1.1912 - val_loss: 14.6352 - val_mae: 2.5084\n",
      "Epoch 95/100\n",
      "404/404 [==============================] - 1s 2ms/step - loss: 2.5654 - mae: 1.1994 - val_loss: 12.5813 - val_mae: 2.3086\n",
      "Epoch 96/100\n",
      "404/404 [==============================] - 1s 2ms/step - loss: 2.3814 - mae: 1.1481 - val_loss: 14.3215 - val_mae: 2.5451\n",
      "Epoch 97/100\n",
      "404/404 [==============================] - 1s 2ms/step - loss: 2.1639 - mae: 1.0915 - val_loss: 13.2254 - val_mae: 2.3462\n",
      "Epoch 98/100\n",
      "404/404 [==============================] - 1s 2ms/step - loss: 2.8236 - mae: 1.2635 - val_loss: 14.2503 - val_mae: 2.6413\n",
      "Epoch 99/100\n",
      "404/404 [==============================] - 1s 2ms/step - loss: 2.4044 - mae: 1.1660 - val_loss: 13.8843 - val_mae: 2.5814\n",
      "Epoch 100/100\n",
      "404/404 [==============================] - 1s 2ms/step - loss: 2.1646 - mae: 1.0825 - val_loss: 14.4958 - val_mae: 2.6324\n"
     ]
    },
    {
     "data": {
      "text/plain": [
       "<keras.src.callbacks.History at 0x1d4e42ed9d0>"
      ]
     },
     "execution_count": 14,
     "metadata": {},
     "output_type": "execute_result"
    }
   ],
   "source": [
    "model.fit(x_train, y_train, epochs=100, batch_size=1, verbose=1,validation_data=(x_test, y_test))"
   ]
  },
  {
   "cell_type": "code",
   "execution_count": 18,
   "id": "d4eac460",
   "metadata": {},
   "outputs": [
    {
     "data": {
      "text/plain": [
       "array([-0.39210982, -0.47630344, -0.17441797, -0.29329423, -0.08379386,\n",
       "       -0.06227831,  0.54988851, -0.72098965, -0.40643754,  0.14193923,\n",
       "       -0.28171037,  0.3402503 , -0.30649698])"
      ]
     },
     "execution_count": 18,
     "metadata": {},
     "output_type": "execute_result"
    }
   ],
   "source": [
    "x_test[8]"
   ]
  },
  {
   "cell_type": "code",
   "execution_count": 19,
   "id": "fb21eb8f",
   "metadata": {},
   "outputs": [
    {
     "name": "stdout",
     "output_type": "stream",
     "text": [
      "ActuaOutput : 18.5\n",
      "1/1 [==============================] - 0s 42ms/step\n",
      "Predicted Output : [[23.782955]]\n"
     ]
    }
   ],
   "source": [
    "test_input=[[-0.42101827, -0.50156705, -1.13081973, -0.25683275, -0.55572682, 0.19758953, 0.20684755, -0.34272202, -0.87422469, -0.84336666, -0.32505625, 0.41244772, -0.63500406]]\n",
    "\n",
    "print(\"ActuaOutput :\",y_test[8])\n",
    "print(\"Predicted Output :\",model.predict(test_input))"
   ]
  },
  {
   "cell_type": "code",
   "execution_count": 20,
   "id": "6a26b482",
   "metadata": {},
   "outputs": [
    {
     "name": "stdout",
     "output_type": "stream",
     "text": [
      "4/4 [==============================] - 0s 3ms/step - loss: 14.4958 - mae: 2.6324\n",
      "Mean squared error on test data : 14.495805740356445\n",
      "Mean absolute error on test data : 2.632432222366333\n"
     ]
    }
   ],
   "source": [
    "mse_nn,mae_nn=model.evaluate(x_test,y_test)\n",
    "\n",
    "print('Mean squared error on test data :',mse_nn)\n",
    "print('Mean absolute error on test data :',mae_nn)"
   ]
  },
  {
   "cell_type": "code",
   "execution_count": 21,
   "id": "761c82c8",
   "metadata": {},
   "outputs": [
    {
     "name": "stdout",
     "output_type": "stream",
     "text": [
      "4/4 [==============================] - 0s 2ms/step\n",
      "R2 Score : 0.7812860815565438\n"
     ]
    }
   ],
   "source": [
    "from sklearn.metrics import r2_score\n",
    "\n",
    "y_dl=model.predict(x_test)\n",
    "r2=r2_score(y_test,y_dl)\n",
    "\n",
    "print('R2 Score :',r2)"
   ]
  },
  {
   "cell_type": "code",
   "execution_count": null,
   "id": "f5b8f944",
   "metadata": {},
   "outputs": [],
   "source": []
  }
 ],
 "metadata": {
  "kernelspec": {
   "display_name": "Python 3 (ipykernel)",
   "language": "python",
   "name": "python3"
  },
  "language_info": {
   "codemirror_mode": {
    "name": "ipython",
    "version": 3
   },
   "file_extension": ".py",
   "mimetype": "text/x-python",
   "name": "python",
   "nbconvert_exporter": "python",
   "pygments_lexer": "ipython3",
   "version": "3.11.5"
  }
 },
 "nbformat": 4,
 "nbformat_minor": 5
}
